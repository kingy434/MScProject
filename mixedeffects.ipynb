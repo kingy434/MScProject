{
  "nbformat": 4,
  "nbformat_minor": 0,
  "metadata": {
    "colab": {
      "name": "mixedeffects.ipynb",
      "provenance": [],
      "authorship_tag": "ABX9TyNzYBL8R7R5XumSX6+17X4X",
      "include_colab_link": true
    },
    "kernelspec": {
      "display_name": "Python 3",
      "name": "python3"
    },
    "language_info": {
      "name": "python"
    }
  },
  "cells": [
    {
      "cell_type": "markdown",
      "metadata": {
        "id": "view-in-github",
        "colab_type": "text"
      },
      "source": [
        "<a href=\"https://colab.research.google.com/github/kingy434/MScProject/blob/main/mixedeffects.ipynb\" target=\"_parent\"><img src=\"https://colab.research.google.com/assets/colab-badge.svg\" alt=\"Open In Colab\"/></a>"
      ]
    },
    {
      "cell_type": "code",
      "metadata": {
        "id": "gyX4ed7DtM12"
      },
      "source": [
        "%load_ext rpy2.ipython"
      ],
      "execution_count": null,
      "outputs": []
    },
    {
      "cell_type": "code",
      "metadata": {
        "id": "qEtFIKz0tff6",
        "colab": {
          "base_uri": "https://localhost:8080/"
        },
        "outputId": "91f974c2-c441-42d8-84b1-6fa4bad622cb"
      },
      "source": [
        "%%R\n",
        "\n",
        "install.packages(\"lme4\")"
      ],
      "execution_count": null,
      "outputs": [
        {
          "output_type": "stream",
          "name": "stderr",
          "text": [
            "R[write to console]: Installing package into ‘/usr/local/lib/R/site-library’\n",
            "(as ‘lib’ is unspecified)\n",
            "\n",
            "R[write to console]: also installing the dependencies ‘minqa’, ‘nloptr’, ‘RcppEigen’\n",
            "\n",
            "\n",
            "R[write to console]: trying URL 'https://cran.rstudio.com/src/contrib/minqa_1.2.4.tar.gz'\n",
            "\n",
            "R[write to console]: Content type 'application/x-gzip'\n",
            "R[write to console]:  length 53548 bytes (52 KB)\n",
            "\n",
            "R[write to console]: =\n",
            "R[write to console]: =\n",
            "R[write to console]: =\n",
            "R[write to console]: =\n",
            "R[write to console]: =\n",
            "R[write to console]: =\n",
            "R[write to console]: =\n",
            "R[write to console]: =\n",
            "R[write to console]: =\n",
            "R[write to console]: =\n",
            "R[write to console]: =\n",
            "R[write to console]: =\n",
            "R[write to console]: =\n",
            "R[write to console]: =\n",
            "R[write to console]: =\n",
            "R[write to console]: =\n",
            "R[write to console]: =\n",
            "R[write to console]: =\n",
            "R[write to console]: =\n",
            "R[write to console]: =\n",
            "R[write to console]: =\n",
            "R[write to console]: =\n",
            "R[write to console]: =\n",
            "R[write to console]: =\n",
            "R[write to console]: =\n",
            "R[write to console]: =\n",
            "R[write to console]: =\n",
            "R[write to console]: =\n",
            "R[write to console]: =\n",
            "R[write to console]: =\n",
            "R[write to console]: =\n",
            "R[write to console]: =\n",
            "R[write to console]: =\n",
            "R[write to console]: =\n",
            "R[write to console]: =\n",
            "R[write to console]: =\n",
            "R[write to console]: =\n",
            "R[write to console]: =\n",
            "R[write to console]: =\n",
            "R[write to console]: =\n",
            "R[write to console]: =\n",
            "R[write to console]: =\n",
            "R[write to console]: =\n",
            "R[write to console]: =\n",
            "R[write to console]: =\n",
            "R[write to console]: =\n",
            "R[write to console]: =\n",
            "R[write to console]: =\n",
            "R[write to console]: =\n",
            "R[write to console]: =\n",
            "R[write to console]: \n",
            "\n",
            "R[write to console]: downloaded 52 KB\n",
            "\n",
            "\n",
            "R[write to console]: trying URL 'https://cran.rstudio.com/src/contrib/nloptr_1.2.2.2.tar.gz'\n",
            "\n",
            "R[write to console]: Content type 'application/x-gzip'\n",
            "R[write to console]:  length 2450931 bytes (2.3 MB)\n",
            "\n",
            "R[write to console]: =\n",
            "R[write to console]: =\n",
            "R[write to console]: =\n",
            "R[write to console]: =\n",
            "R[write to console]: =\n",
            "R[write to console]: =\n",
            "R[write to console]: =\n",
            "R[write to console]: =\n",
            "R[write to console]: =\n",
            "R[write to console]: =\n",
            "R[write to console]: =\n",
            "R[write to console]: =\n",
            "R[write to console]: =\n",
            "R[write to console]: =\n",
            "R[write to console]: =\n",
            "R[write to console]: =\n",
            "R[write to console]: =\n",
            "R[write to console]: =\n",
            "R[write to console]: =\n",
            "R[write to console]: =\n",
            "R[write to console]: =\n",
            "R[write to console]: =\n",
            "R[write to console]: =\n",
            "R[write to console]: =\n",
            "R[write to console]: =\n",
            "R[write to console]: =\n",
            "R[write to console]: =\n",
            "R[write to console]: =\n",
            "R[write to console]: =\n",
            "R[write to console]: =\n",
            "R[write to console]: =\n",
            "R[write to console]: =\n",
            "R[write to console]: =\n",
            "R[write to console]: =\n",
            "R[write to console]: =\n",
            "R[write to console]: =\n",
            "R[write to console]: =\n",
            "R[write to console]: =\n",
            "R[write to console]: =\n",
            "R[write to console]: =\n",
            "R[write to console]: =\n",
            "R[write to console]: =\n",
            "R[write to console]: =\n",
            "R[write to console]: =\n",
            "R[write to console]: =\n",
            "R[write to console]: =\n",
            "R[write to console]: =\n",
            "R[write to console]: =\n",
            "R[write to console]: =\n",
            "R[write to console]: =\n",
            "R[write to console]: \n",
            "\n",
            "R[write to console]: downloaded 2.3 MB\n",
            "\n",
            "\n",
            "R[write to console]: trying URL 'https://cran.rstudio.com/src/contrib/RcppEigen_0.3.3.9.1.tar.gz'\n",
            "\n",
            "R[write to console]: Content type 'application/x-gzip'\n",
            "R[write to console]:  length 1633360 bytes (1.6 MB)\n",
            "\n",
            "R[write to console]: =\n",
            "R[write to console]: =\n",
            "R[write to console]: =\n",
            "R[write to console]: =\n",
            "R[write to console]: =\n",
            "R[write to console]: =\n",
            "R[write to console]: =\n",
            "R[write to console]: =\n",
            "R[write to console]: =\n",
            "R[write to console]: =\n",
            "R[write to console]: =\n",
            "R[write to console]: =\n",
            "R[write to console]: =\n",
            "R[write to console]: =\n",
            "R[write to console]: =\n",
            "R[write to console]: =\n",
            "R[write to console]: =\n",
            "R[write to console]: =\n",
            "R[write to console]: =\n",
            "R[write to console]: =\n",
            "R[write to console]: =\n",
            "R[write to console]: =\n",
            "R[write to console]: =\n",
            "R[write to console]: =\n",
            "R[write to console]: =\n",
            "R[write to console]: =\n",
            "R[write to console]: =\n",
            "R[write to console]: =\n",
            "R[write to console]: =\n",
            "R[write to console]: =\n",
            "R[write to console]: =\n",
            "R[write to console]: =\n",
            "R[write to console]: =\n",
            "R[write to console]: =\n",
            "R[write to console]: =\n",
            "R[write to console]: =\n",
            "R[write to console]: =\n",
            "R[write to console]: =\n",
            "R[write to console]: =\n",
            "R[write to console]: =\n",
            "R[write to console]: =\n",
            "R[write to console]: =\n",
            "R[write to console]: =\n",
            "R[write to console]: =\n",
            "R[write to console]: =\n",
            "R[write to console]: =\n",
            "R[write to console]: =\n",
            "R[write to console]: =\n",
            "R[write to console]: =\n",
            "R[write to console]: =\n",
            "R[write to console]: \n",
            "\n",
            "R[write to console]: downloaded 1.6 MB\n",
            "\n",
            "\n",
            "R[write to console]: trying URL 'https://cran.rstudio.com/src/contrib/lme4_1.1-27.1.tar.gz'\n",
            "\n",
            "R[write to console]: Content type 'application/x-gzip'\n",
            "R[write to console]:  length 3311365 bytes (3.2 MB)\n",
            "\n",
            "R[write to console]: =\n",
            "R[write to console]: =\n",
            "R[write to console]: =\n",
            "R[write to console]: =\n",
            "R[write to console]: =\n",
            "R[write to console]: =\n",
            "R[write to console]: =\n",
            "R[write to console]: =\n",
            "R[write to console]: =\n",
            "R[write to console]: =\n",
            "R[write to console]: =\n",
            "R[write to console]: =\n",
            "R[write to console]: =\n",
            "R[write to console]: =\n",
            "R[write to console]: =\n",
            "R[write to console]: =\n",
            "R[write to console]: =\n",
            "R[write to console]: =\n",
            "R[write to console]: =\n",
            "R[write to console]: =\n",
            "R[write to console]: =\n",
            "R[write to console]: =\n",
            "R[write to console]: =\n",
            "R[write to console]: =\n",
            "R[write to console]: =\n",
            "R[write to console]: =\n",
            "R[write to console]: =\n",
            "R[write to console]: =\n",
            "R[write to console]: =\n",
            "R[write to console]: =\n",
            "R[write to console]: =\n",
            "R[write to console]: =\n",
            "R[write to console]: =\n",
            "R[write to console]: =\n",
            "R[write to console]: =\n",
            "R[write to console]: =\n",
            "R[write to console]: =\n",
            "R[write to console]: =\n",
            "R[write to console]: =\n",
            "R[write to console]: =\n",
            "R[write to console]: =\n",
            "R[write to console]: =\n",
            "R[write to console]: =\n",
            "R[write to console]: =\n",
            "R[write to console]: =\n",
            "R[write to console]: =\n",
            "R[write to console]: =\n",
            "R[write to console]: =\n",
            "R[write to console]: =\n",
            "R[write to console]: =\n",
            "R[write to console]: \n",
            "\n",
            "R[write to console]: downloaded 3.2 MB\n",
            "\n",
            "\n",
            "R[write to console]: \n",
            "\n",
            "R[write to console]: \n",
            "R[write to console]: The downloaded source packages are in\n",
            "\t‘/tmp/RtmpKXiKad/downloaded_packages’\n",
            "R[write to console]: \n",
            "R[write to console]: \n",
            "\n"
          ]
        }
      ]
    },
    {
      "cell_type": "code",
      "metadata": {
        "colab": {
          "resources": {
            "http://localhost:8080/nbextensions/google.colab/files.js": {
              "data": "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",
              "ok": true,
              "headers": [
                [
                  "content-type",
                  "application/javascript"
                ]
              ],
              "status": 200,
              "status_text": ""
            }
          },
          "base_uri": "https://localhost:8080/",
          "height": 73
        },
        "id": "P5p7ZVj-Rk7F",
        "outputId": "e373e434-5843-43af-8ea4-90a792120257"
      },
      "source": [
        "from google.colab import files\n",
        "files.upload()"
      ],
      "execution_count": null,
      "outputs": [
        {
          "output_type": "display_data",
          "data": {
            "text/html": [
              "\n",
              "     <input type=\"file\" id=\"files-fad0ae85-b860-4e51-ae36-f5a31c70c68f\" name=\"files[]\" multiple disabled\n",
              "        style=\"border:none\" />\n",
              "     <output id=\"result-fad0ae85-b860-4e51-ae36-f5a31c70c68f\">\n",
              "      Upload widget is only available when the cell has been executed in the\n",
              "      current browser session. Please rerun this cell to enable.\n",
              "      </output>\n",
              "      <script src=\"/nbextensions/google.colab/files.js\"></script> "
            ],
            "text/plain": [
              "<IPython.core.display.HTML object>"
            ]
          },
          "metadata": {}
        },
        {
          "output_type": "stream",
          "name": "stdout",
          "text": [
            "Saving Tremor_matrix_with_causal_factors_and_prototypes.mat to Tremor_matrix_with_causal_factors_and_prototypes.mat\n"
          ]
        }
      ]
    },
    {
      "cell_type": "code",
      "metadata": {
        "id": "fpO3n9m7Q0kD"
      },
      "source": [
        "from os.path import dirname, join as pjoin\n",
        "import scipy.io as sio\n",
        "import numpy as np\n",
        "import pandas as pd\n",
        "import matplotlib.pyplot as plt\n",
        "\n",
        "mat_data = 'Tremor_matrix_with_causal_factors_and_prototypes.mat'\n",
        "mat_contents = sio.loadmat(mat_data)\n",
        "Y_features = mat_contents['Y_tremor_features_norm'];\n",
        "\n",
        "Y_features_whiten = Y_features[:,1:46]\n",
        "Y_features_whiten = Y_features_whiten - np.mean(Y_features_whiten,axis=0)\n",
        "from sklearn.decomposition import PCA\n",
        "pca = PCA(n_components=23)\n",
        "pca.fit(Y_features_whiten)\n",
        "Y_features_whiten = pca.transform(Y_features_whiten)\n",
        "Y_features_final = np.zeros((len(Y_features[:,0]), 28))\n",
        "Y_features_final[:,0] = Y_features[:,0]\n",
        "Y_features_final[:,1:24] = Y_features_whiten\n",
        "Y_features_final[:,24:] = Y_features[:,46:]\n",
        "\n",
        "data_features = pd.DataFrame(data=Y_features_final, columns=[\"ID\", \"Col2\", \"Col3\", \"Col4\", \"Col5\", \"Col6\", \"Col7\", \"Col8\", \"Col9\", \"Col10\",\"Col11\", \"Col12\", \"Col13\", \"Col14\", \"Col15\", \n",
        "                                                             \"Col16\", \"Col17\", \"Col18\", \"Col19\", \"Col20\", \"Col21\", \"Col22\", \"Col23\", \"Col24\", \"Medication_Intake\",\"Prototype_ID\",\n",
        "                                                             \"Non-tremor/Tremor\",\"Activity_label\"])\n",
        "\n",
        "data_features = data_features.dropna()\n",
        "data_features = data_features.reset_index(drop=True)\n",
        "data_features = data_features.drop(columns=\"Activity_label\")\n",
        "data_features_id = data_features.drop(columns=[\"Prototype_ID\", \"Medication_Intake\"])\n",
        "#data_features_med = data_features.drop(columns=[\"Prototype_ID\", ID\"])\n",
        "data_features_cols = data_features.drop(columns=[\"Prototype_ID\", \"ID\", \"Medication_Intake\"])\n",
        "\n",
        "outcomevar = 'Non-tremor/Tremor'\n",
        "#outcomevar_id = 48\n",
        "idcolumn = 'ID'\n",
        "idcolumn_id = 1\n",
        "medcolumn = 'Medication_Intake'\n",
        "numestimators = 100\n",
        "\n",
        "# Categorize tremor prototypes\n",
        "proto_len = np.sum(data_features[\"Prototype_ID\"] != 0)\n",
        "Tremor_proto = np.ones(len(data_features))\n",
        "Tremor_proto[data_features[\"Prototype_ID\"] == 1] = 1\n",
        "Tremor_proto[data_features[\"Prototype_ID\"] == 2] = 1\n",
        "Tremor_proto[data_features[\"Prototype_ID\"] == 3] = 2\n",
        "Tremor_proto[data_features[\"Prototype_ID\"] == 4] = 2\n",
        "Tremor_proto[data_features[\"Prototype_ID\"] == 5] = 3\n",
        "Tremor_proto[data_features[\"Prototype_ID\"] == 6] = 4\n",
        "Tremor_proto[data_features[\"Prototype_ID\"] == 7] = 4\n",
        "\n",
        "from sklearn.ensemble import RandomForestClassifier\n",
        "\n",
        "Ind_proto_known = data_features[\"Prototype_ID\"] != 0\n",
        "X_proto_train = data_features[Ind_proto_known]\n",
        "X_proto_train = X_proto_train.drop(columns=[\"Prototype_ID\", \"Medication_Intake\", \"ID\", \"Non-tremor/Tremor\"])\n",
        "y_proto_train = data_features[\"Prototype_ID\"][Ind_proto_known]\n",
        "\n",
        "Ind_proto_unknown = data_features[\"Prototype_ID\"] == 0\n",
        "X_proto_test = data_features[Ind_proto_unknown]\n",
        "X_proto_test = X_proto_test.drop(columns=[\"Prototype_ID\", \"Medication_Intake\", \"ID\", \"Non-tremor/Tremor\"])\n",
        "\n",
        "rf = RandomForestClassifier(n_estimators = 100, random_state = 0, class_weight=\"balanced\")\n",
        "# Train the model on training data\n",
        "rf.fit(X_proto_train, y_proto_train);\n",
        "predictions_proto = rf.predict(X_proto_test)\n",
        "prob_predictions_proto = rf.predict_proba(X_proto_test)\n",
        "y_proto = data_features[\"Prototype_ID\"]\n",
        "y_proto[Ind_proto_unknown] = predictions_proto\n",
        "data_features[\"Prototype_ID\"][Ind_proto_unknown] = predictions_proto\n",
        "\n",
        "#model won't work without these name changes\n",
        "data_features_me = data_features.rename(columns={\"Non-tremor/Tremor\": \"Tremor\", \"Medication_Intake\": \"MedIntake\", \"Prototype_ID\": \"PrototypeID\"})"
      ],
      "execution_count": null,
      "outputs": []
    },
    {
      "cell_type": "code",
      "metadata": {
        "colab": {
          "base_uri": "https://localhost:8080/"
        },
        "id": "Zl-nBJkfTO67",
        "outputId": "0547c882-1d22-4f7f-8ef9-35545b7c94eb"
      },
      "source": [
        "!pip install pymer4"
      ],
      "execution_count": null,
      "outputs": [
        {
          "output_type": "stream",
          "name": "stdout",
          "text": [
            "Collecting pymer4\n",
            "  Downloading pymer4-0.7.5-py2.py3-none-any.whl (58 kB)\n",
            "\u001b[?25l\r\u001b[K     |█████▋                          | 10 kB 17.2 MB/s eta 0:00:01\r\u001b[K     |███████████▎                    | 20 kB 23.2 MB/s eta 0:00:01\r\u001b[K     |█████████████████               | 30 kB 21.6 MB/s eta 0:00:01\r\u001b[K     |██████████████████████▌         | 40 kB 13.7 MB/s eta 0:00:01\r\u001b[K     |████████████████████████████▏   | 51 kB 8.2 MB/s eta 0:00:01\r\u001b[K     |████████████████████████████████| 58 kB 3.2 MB/s \n",
            "\u001b[?25hRequirement already satisfied: joblib>=0.14 in /usr/local/lib/python3.7/dist-packages (from pymer4) (1.0.1)\n",
            "Requirement already satisfied: rpy2>=3.3.2 in /usr/local/lib/python3.7/dist-packages (from pymer4) (3.4.5)\n",
            "Requirement already satisfied: pandas<1.2,>=1.1.0 in /usr/local/lib/python3.7/dist-packages (from pymer4) (1.1.5)\n",
            "Requirement already satisfied: numpy>=1.16.0 in /usr/local/lib/python3.7/dist-packages (from pymer4) (1.19.5)\n",
            "Requirement already satisfied: patsy>=0.5.1 in /usr/local/lib/python3.7/dist-packages (from pymer4) (0.5.1)\n",
            "Collecting deepdish>=0.3.6\n",
            "  Downloading deepdish-0.3.7-py2.py3-none-any.whl (37 kB)\n",
            "Requirement already satisfied: matplotlib>=3.0 in /usr/local/lib/python3.7/dist-packages (from pymer4) (3.2.2)\n",
            "Requirement already satisfied: scipy>=1.4.0 in /usr/local/lib/python3.7/dist-packages (from pymer4) (1.4.1)\n",
            "Requirement already satisfied: seaborn>=0.10.0 in /usr/local/lib/python3.7/dist-packages (from pymer4) (0.11.2)\n",
            "Requirement already satisfied: tables in /usr/local/lib/python3.7/dist-packages (from deepdish>=0.3.6->pymer4) (3.4.4)\n",
            "Requirement already satisfied: pyparsing!=2.0.4,!=2.1.2,!=2.1.6,>=2.0.1 in /usr/local/lib/python3.7/dist-packages (from matplotlib>=3.0->pymer4) (2.4.7)\n",
            "Requirement already satisfied: python-dateutil>=2.1 in /usr/local/lib/python3.7/dist-packages (from matplotlib>=3.0->pymer4) (2.8.2)\n",
            "Requirement already satisfied: cycler>=0.10 in /usr/local/lib/python3.7/dist-packages (from matplotlib>=3.0->pymer4) (0.10.0)\n",
            "Requirement already satisfied: kiwisolver>=1.0.1 in /usr/local/lib/python3.7/dist-packages (from matplotlib>=3.0->pymer4) (1.3.2)\n",
            "Requirement already satisfied: six in /usr/local/lib/python3.7/dist-packages (from cycler>=0.10->matplotlib>=3.0->pymer4) (1.15.0)\n",
            "Requirement already satisfied: pytz>=2017.2 in /usr/local/lib/python3.7/dist-packages (from pandas<1.2,>=1.1.0->pymer4) (2018.9)\n",
            "Requirement already satisfied: jinja2 in /usr/local/lib/python3.7/dist-packages (from rpy2>=3.3.2->pymer4) (2.11.3)\n",
            "Requirement already satisfied: tzlocal in /usr/local/lib/python3.7/dist-packages (from rpy2>=3.3.2->pymer4) (1.5.1)\n",
            "Requirement already satisfied: cffi>=1.10.0 in /usr/local/lib/python3.7/dist-packages (from rpy2>=3.3.2->pymer4) (1.14.6)\n",
            "Requirement already satisfied: pycparser in /usr/local/lib/python3.7/dist-packages (from cffi>=1.10.0->rpy2>=3.3.2->pymer4) (2.20)\n",
            "Requirement already satisfied: MarkupSafe>=0.23 in /usr/local/lib/python3.7/dist-packages (from jinja2->rpy2>=3.3.2->pymer4) (2.0.1)\n",
            "Requirement already satisfied: numexpr>=2.5.2 in /usr/local/lib/python3.7/dist-packages (from tables->deepdish>=0.3.6->pymer4) (2.7.3)\n",
            "Installing collected packages: deepdish, pymer4\n",
            "Successfully installed deepdish-0.3.7 pymer4-0.7.5\n"
          ]
        }
      ]
    },
    {
      "cell_type": "code",
      "metadata": {
        "colab": {
          "base_uri": "https://localhost:8080/"
        },
        "id": "s4_5ol6LuP0Z",
        "outputId": "8f854f41-b36c-4f47-b25c-3be2bf44b7fc"
      },
      "source": [
        "from pymer4.models import Lmer\n",
        "\n",
        "m = Lmer(\"Tremor ~ Col2+Col3+Col4+Col5+Col6+Col7+Col8+Col9+Col10+Col11+Col12+Col13+Col14+Col15+Col16+Col17+Col18+Col19+Col20+Col21+Col22+Col23+Col24+(1|MedIntake)+(1|PrototypeID)+(1|ID)\", data=data_features_me, family = \"binomial\")\n",
        "print(m.fit())"
      ],
      "execution_count": null,
      "outputs": [
        {
          "output_type": "stream",
          "name": "stdout",
          "text": [
            "Formula: Tremor~Col2+Col3+Col4+Col5+Col6+Col7+Col8+Col9+Col10+Col11+Col12+Col13+Col14+Col15+Col16+Col17+Col18+Col19+Col20+Col21+Col22+Col23+Col24+(1|MedIntake)+(1|PrototypeID)+(1|ID)\n",
            "\n",
            "Family: binomial\t Inference: parametric\n",
            "\n",
            "Number of observations: 75081\t Groups: {'ID': 8.0, 'PrototypeID': 7.0, 'MedIntake': 2.0}\n",
            "\n",
            "Log-likelihood: -17578.695 \t AIC: 35211.390\n",
            "\n",
            "Random effects:\n",
            "\n",
            "                    Name    Var    Std\n",
            "ID           (Intercept)  1.490  1.220\n",
            "PrototypeID  (Intercept)  0.296  0.544\n",
            "MedIntake    (Intercept)  0.040  0.200\n",
            "\n",
            "No random effect correlations specified\n",
            "\n",
            "Fixed effects:\n",
            "\n",
            "             Estimate  2.5_ci  97.5_ci     SE  ...  Prob_97.5_ci  Z-stat  P-val  Sig\n",
            "(Intercept)    -3.185  -4.161   -2.210  0.498  ...         0.099  -6.400  0.000  ***\n",
            "Col2           -0.473  -0.510   -0.436  0.019  ...         0.393 -24.822  0.000  ***\n",
            "Col3            0.439   0.406    0.472  0.017  ...         0.616  26.242  0.000  ***\n",
            "Col4           -0.002  -0.027    0.022  0.013  ...         0.506  -0.173  0.863     \n",
            "Col5           -0.716  -0.785   -0.646  0.036  ...         0.344 -20.075  0.000  ***\n",
            "Col6            0.161   0.095    0.227  0.034  ...         0.557   4.758  0.000  ***\n",
            "Col7            0.665   0.599    0.732  0.034  ...         0.675  19.510  0.000  ***\n",
            "Col8           -0.422  -0.455   -0.389  0.017  ...         0.404 -25.091  0.000  ***\n",
            "Col9           -0.859  -0.916   -0.802  0.029  ...         0.310 -29.543  0.000  ***\n",
            "Col10           0.056   0.007    0.104  0.025  ...         0.526   2.243  0.025    *\n",
            "Col11          -0.346  -0.383   -0.310  0.018  ...         0.423 -18.816  0.000  ***\n",
            "Col12          -0.069  -0.115   -0.024  0.023  ...         0.494  -2.983  0.003   **\n",
            "Col13           0.220   0.168    0.273  0.027  ...         0.568   8.238  0.000  ***\n",
            "Col14          -0.091  -0.132   -0.049  0.021  ...         0.488  -4.270  0.000  ***\n",
            "Col15           0.304   0.249    0.359  0.028  ...         0.589  10.802  0.000  ***\n",
            "Col16           0.021  -0.030    0.072  0.026  ...         0.518   0.815  0.415     \n",
            "Col17          -0.040  -0.077   -0.004  0.019  ...         0.499  -2.178  0.029    *\n",
            "Col18           0.195   0.147    0.243  0.024  ...         0.560   7.984  0.000  ***\n",
            "Col19           0.208   0.166    0.251  0.022  ...         0.562   9.547  0.000  ***\n",
            "Col20          -0.369  -0.422   -0.316  0.027  ...         0.422 -13.699  0.000  ***\n",
            "Col21           0.280   0.220    0.339  0.030  ...         0.584   9.202  0.000  ***\n",
            "Col22           0.144   0.084    0.204  0.031  ...         0.551   4.705  0.000  ***\n",
            "Col23           0.238   0.150    0.326  0.045  ...         0.581   5.309  0.000  ***\n",
            "Col24          -1.081  -1.209   -0.953  0.065  ...         0.278 -16.508  0.000  ***\n",
            "\n",
            "[24 rows x 13 columns]\n"
          ]
        }
      ]
    },
    {
      "cell_type": "code",
      "metadata": {
        "colab": {
          "base_uri": "https://localhost:8080/"
        },
        "id": "YUjgcVJiTmjm",
        "outputId": "96cf62eb-e6ac-4841-de8f-0f7695bb40e8"
      },
      "source": [
        "m.plot_summary()"
      ],
      "execution_count": null,
      "outputs": [
        {
          "output_type": "execute_result",
          "data": {
            "text/plain": [
              "<matplotlib.axes._subplots.AxesSubplot at 0x7f06d1261b50>"
            ]
          },
          "metadata": {},
          "execution_count": 12
        },
        {
          "output_type": "display_data",
          "data": {
            "image/png": "[encoded data removed]",
            "text/plain": [
              "<Figure size 864x432 with 1 Axes>"
            ]
          },
          "metadata": {
            "needs_background": "light"
          }
        }
      ]
    },
    {
      "cell_type": "code",
      "metadata": {
        "colab": {
          "base_uri": "https://localhost:8080/"
        },
        "id": "QlK0E8XPANaQ",
        "outputId": "8fecd29c-dfac-4e3e-c51a-d60660017e5d"
      },
      "source": [
        "m2 = Lmer(\"Tremor ~ Col2+Col3+Col4+Col5+Col6+Col7+Col8+Col9+Col10+Col11+Col12+Col13+Col14+Col15+Col16+Col17+Col18+Col19+Col20+Col21+Col22+Col23+Col24+(1|ID)\", data=data_features_me, family = \"binomial\")\n",
        "print(m2.fit())"
      ],
      "execution_count": null,
      "outputs": [
        {
          "output_type": "stream",
          "name": "stdout",
          "text": [
            "Formula: Tremor~Col2+Col3+Col4+Col5+Col6+Col7+Col8+Col9+Col10+Col11+Col12+Col13+Col14+Col15+Col16+Col17+Col18+Col19+Col20+Col21+Col22+Col23+Col24+(1|ID)\n",
            "\n",
            "Family: binomial\t Inference: parametric\n",
            "\n",
            "Number of observations: 75081\t Groups: {'ID': 8.0}\n",
            "\n",
            "Log-likelihood: -17795.935 \t AIC: 35641.871\n",
            "\n",
            "Random effects:\n",
            "\n",
            "           Name    Var    Std\n",
            "ID  (Intercept)  1.454  1.206\n",
            "\n",
            "No random effect correlations specified\n",
            "\n",
            "Fixed effects:\n",
            "\n",
            "             Estimate  2.5_ci  97.5_ci     SE  ...  Prob_97.5_ci  Z-stat  P-val  Sig\n",
            "(Intercept)    -3.377  -4.212   -2.542  0.426  ...         0.073  -7.925  0.000  ***\n",
            "Col2           -0.441  -0.476   -0.407  0.018  ...         0.400 -25.131  0.000  ***\n",
            "Col3            0.367   0.343    0.391  0.012  ...         0.597  29.789  0.000  ***\n",
            "Col4           -0.056  -0.074   -0.037  0.009  ...         0.491  -5.946  0.000  ***\n",
            "Col5           -0.731  -0.799   -0.662  0.035  ...         0.340 -20.932  0.000  ***\n",
            "Col6            0.138   0.074    0.203  0.033  ...         0.550   4.206  0.000  ***\n",
            "Col7            0.643   0.576    0.710  0.034  ...         0.670  18.768  0.000  ***\n",
            "Col8           -0.393  -0.424   -0.361  0.016  ...         0.411 -24.468  0.000  ***\n",
            "Col9           -0.902  -0.958   -0.846  0.029  ...         0.300 -31.522  0.000  ***\n",
            "Col10           0.037  -0.011    0.085  0.024  ...         0.521   1.518  0.129     \n",
            "Col11          -0.365  -0.400   -0.331  0.018  ...         0.418 -20.581  0.000  ***\n",
            "Col12          -0.083  -0.127   -0.039  0.022  ...         0.490  -3.685  0.000  ***\n",
            "Col13           0.215   0.164    0.266  0.026  ...         0.566   8.266  0.000  ***\n",
            "Col14          -0.077  -0.117   -0.036  0.021  ...         0.491  -3.732  0.000  ***\n",
            "Col15           0.322   0.269    0.376  0.027  ...         0.593  11.750  0.000  ***\n",
            "Col16           0.009  -0.041    0.059  0.026  ...         0.515   0.342  0.732     \n",
            "Col17          -0.058  -0.093   -0.024  0.018  ...         0.494  -3.296  0.001  ***\n",
            "Col18           0.202   0.155    0.249  0.024  ...         0.562   8.395  0.000  ***\n",
            "Col19           0.238   0.196    0.280  0.021  ...         0.570  11.146  0.000  ***\n",
            "Col20          -0.390  -0.441   -0.338  0.026  ...         0.416 -14.864  0.000  ***\n",
            "Col21           0.285   0.227    0.343  0.030  ...         0.585   9.646  0.000  ***\n",
            "Col22           0.165   0.107    0.223  0.030  ...         0.556   5.596  0.000  ***\n",
            "Col23           0.151   0.064    0.238  0.044  ...         0.559   3.417  0.001  ***\n",
            "Col24          -1.097  -1.223   -0.972  0.064  ...         0.274 -17.160  0.000  ***\n",
            "\n",
            "[24 rows x 13 columns]\n"
          ]
        }
      ]
    },
    {
      "cell_type": "code",
      "metadata": {
        "colab": {
          "base_uri": "https://localhost:8080/",
          "height": 165
        },
        "id": "PR5-8F0LASbU",
        "outputId": "40795f8a-aee8-4cca-8016-b6b02459d44c"
      },
      "source": [
        "m2.plot(\"(Intercept)\")"
      ],
      "execution_count": null,
      "outputs": [
        {
          "output_type": "error",
          "ename": "NameError",
          "evalue": "ignored",
          "traceback": [
            "\u001b[0;31m---------------------------------------------------------------------------\u001b[0m",
            "\u001b[0;31mNameError\u001b[0m                                 Traceback (most recent call last)",
            "\u001b[0;32m<ipython-input-1-0212df61b9ae>\u001b[0m in \u001b[0;36m<module>\u001b[0;34m()\u001b[0m\n\u001b[0;32m----> 1\u001b[0;31m \u001b[0mm2\u001b[0m\u001b[0;34m.\u001b[0m\u001b[0mplot\u001b[0m\u001b[0;34m(\u001b[0m\u001b[0;34m\"(Intercept)\"\u001b[0m\u001b[0;34m)\u001b[0m\u001b[0;34m\u001b[0m\u001b[0;34m\u001b[0m\u001b[0m\n\u001b[0m",
            "\u001b[0;31mNameError\u001b[0m: name 'm2' is not defined"
          ]
        }
      ]
    }
  ]
}