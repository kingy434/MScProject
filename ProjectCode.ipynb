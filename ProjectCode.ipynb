{
 "cells": [
  {
   "cell_type": "markdown",
   "metadata": {
    "id": "bdxUyrrx0hT5"
   },
   "source": [
    "After loading in the mat file to Colab, we then make use of scipy.io to open the mat file and create a variable for the Y features"
   ]
  },
  {
   "cell_type": "code",
   "execution_count": 1,
   "metadata": {
    "id": "kh78JEOfKS0V"
   },
   "outputs": [],
   "source": [
    "from os.path import dirname, join as pjoin\n",
    "import scipy.io as sio\n",
    "import numpy as np\n",
    "import pandas as pd\n",
    "import matplotlib.pyplot as plt\n",
    "\n",
    "mat_data = 'Tremor_matrix_with_causal_factors_and_prototypes.mat'\n",
    "mat_contents = sio.loadmat(mat_data)\n",
    "Y_features = mat_contents['Y_tremor_features_norm'];"
   ]
  },
  {
   "cell_type": "markdown",
   "metadata": {
    "id": "-g0plci4G2B2"
   },
   "source": [
    "Before loading the features into a dataframe and organising them, I first define the relevant functions I will apply to the dataframe. To begin with, for LOOCV I found it convenient to define a losses function. For the kth iteration, this function takes k as the testing set and the rest as the training set and returns the error."
   ]
  },
  {
   "cell_type": "code",
   "execution_count": 2,
   "metadata": {
    "id": "ACu-4aH3nCDq"
   },
   "outputs": [],
   "source": [
    "def losses(data, algo, k, column):\n",
    "    #split into 2 dataframes with k and without it\n",
    "    data_filtered = data[data[column] != k]\n",
    "    data_cv = data[data[column] == k]\n",
    "   \n",
    "    # Test data - the person left out of training\n",
    "    data_test = data_cv.drop(columns=column)\n",
    "    X_test = data_test.drop(columns=[outcomevar])\n",
    "    y_test = data_test[outcomevar] #This is the outcome variable\n",
    "      \n",
    "    # Train data - all other people in dataframe\n",
    "    data_train = data_filtered.drop(columns=column)\n",
    "    X_train = data_train.drop(columns=[outcomevar])\n",
    "      \n",
    "    X_train = np.array(X_train)\n",
    "    y_train = np.array(data_train[outcomevar]) #Outcome variable here\n",
    "\n",
    "    # Train the model on training data\n",
    "    algo.fit(X_train, y_train);\n",
    "    predictions = algo.predict(X_test)\n",
    "    prob_predictions = algo.predict_proba(X_test)\n",
    "    errors = abs(predictions - y_test.values)\n",
    "    return errors, predictions, prob_predictions, y_test.values"
   ]
  },
  {
   "cell_type": "markdown",
   "metadata": {
    "id": "Fab5eQIrHcu6"
   },
   "source": [
    "The following code is an adaptation for Python of Bates' R code shown here: https://github.com/stephenbates19/nestedcv/blob/master/R/core.R. It is based off the algorithm detailed in Bates, Hastie, and Tibshinari's https://arxiv.org/pdf/2104.00673.pdf. I had to make some changes for LOOCV as the code relied on making K equal partitions for each fold, and with the case of using IDs there are not 8 equal partitions for each patient. I opted to generalise this for a specific column so I could experiment with nesting on things other than the ID"
   ]
  },
  {
   "cell_type": "code",
   "execution_count": 75,
   "metadata": {
    "id": "fFV3wYo6BTFs"
   },
   "outputs": [],
   "source": [
    "from scipy import stats\n",
    "\n",
    "def naive_loocv(data, algo, column, alpha = 0.1):\n",
    "    \"\"\" Naive LOOCV\n",
    "    Performs Naive Leave One Out Cross Validation on data provided\n",
    "    Inputs:\n",
    "    - data A dataframe of features and response variable\n",
    "    - algo A classification algorithm object, with the attributes fit and predict\n",
    "    - column The features who's unique values will be used as partitions\n",
    "    - alpha The error rate. Must be in (0, 0.5)\n",
    "    Outputs:\n",
    "    - err_hat Mean of CV prediction errors\n",
    "    - ci_lo Lower endpoint for CV confidence interval on prediction error \n",
    "    - ci_hi Higher endpoint for CV confidence interval on prediction error\n",
    "    - sd Standard Deviation of the CV prediction errors\n",
    "    \"\"\"\n",
    "\n",
    "    errors = np.array([])\n",
    "    fig, ax = plt.subplots()\n",
    "    sensitivity_LOOCV = []\n",
    "    specificity_LOOCV = []\n",
    "    balanced_accuracy_LOOCV = []\n",
    "    thr = []\n",
    "\n",
    "    #get list for the values to iterate over\n",
    "    vals = data[column].unique()\n",
    "    for k in vals:\n",
    "        #find error with k as testing subject\n",
    "        error_k, pred_k, pred_prob_k, label_k = losses(data, algo, k, column)\n",
    "        errors = np.concatenate((errors, error_k))\n",
    "        \n",
    "        ind_true = np.where(label_k == 1)\n",
    "        ind_false = np.where(label_k == 0) \n",
    "        fpr, tpr, thresholds = metrics.roc_curve(label_k, pred_prob_k[:,1])\n",
    "        data_roc = np.vstack((fpr,tpr)).T\n",
    "        fpr_plot = pd.DataFrame(data=data_roc, columns=[\"fpr\", \"tpr\"])\n",
    "        # This is the ROC curve \n",
    "        sns.set()\n",
    "        sns.lineplot(data=fpr_plot,  x=\"fpr\", y=\"tpr\", ax=ax)\n",
    "        \n",
    "        balanced_accuracy_LOOCV_temp = (tpr+(1-fpr))/2\n",
    "        balanced_accuracy_LOOCV.append((tpr+(1-fpr))/2)\n",
    "\n",
    "        max_val = max(balanced_accuracy_LOOCV_temp.reshape(-1,1))\n",
    "        ind_max = np.argmax(balanced_accuracy_LOOCV_temp.reshape(-1,1))\n",
    "        sensitivity_LOOCV.append(tpr[ind_max])\n",
    "        specificity_LOOCV.append(1 - fpr[ind_max])\n",
    "        thr.append(thresholds[ind_max])\n",
    "\n",
    "        print(\"...\" + str(int(k)) + \" processing complete\")\n",
    "\n",
    "    #mean error\n",
    "    err_hat = np.mean(errors)\n",
    "\n",
    "    #defines the low and high confidence intervals for the error\n",
    "    ci_lo = np.mean(errors) - stats.norm.ppf(1-alpha/2) * np.std(errors) / np.sqrt(len(data.index))\n",
    "    ci_hi = np.mean(errors) + stats.norm.ppf(1-alpha/2) * np.std(errors) / np.sqrt(len(data.index))\n",
    "\n",
    "    #standard deviation of errors\n",
    "    sd = np.std(errors)\n",
    "    \n",
    "    #print specificity and sensitivity\n",
    "    print(\"Sensitivity: {} | Specificity: {}\".format(np.mean(sensitivity_LOOCV), np.mean(specificity_LOOCV)))\n",
    "\n",
    "    #dictionary returned of relevant values\n",
    "    return {'err_hat': err_hat, 'ci_lo': ci_lo, 'ci_hi': ci_hi, \"sd\": sd}"
   ]
  },
  {
   "cell_type": "code",
   "execution_count": null,
   "metadata": {
    "id": "hxPjDULPYwVE"
   },
   "outputs": [],
   "source": [
    "def nested_loocv_helper(data, algo, column, alpha = 0.1):\n",
    "  \"\"\" Nested LOOCV helper\n",
    "  Function to aid Nested LOOCV. Similar to Naive but with additional nesting stage\n",
    "  Inputs:\n",
    "  - data A dataframe of features and response variable\n",
    "  - algo A classification algorithm object, with the attributes fit and predict\n",
    "  - column The features who's unique values will be used as partitions\n",
    "  - alpha The error rate. Must be in (0, 0.5)\n",
    "  Outputs:\n",
    "  - out-mat Vector of difference statistics with same length as target\n",
    "  - all_ho_errors Vector of hold-out errors not used in model training\n",
    "  \"\"\"\n",
    "\n",
    "  #define number of folds needed for column \n",
    "  vals = data[column].unique()\n",
    "  K = len(vals)\n",
    "\n",
    "  #fold 1 iterates through K-1 points, and fold 2 iterates through remainder of list after fold 1\n",
    "  ho_errors = {}\n",
    "  #entry i,j is error on fold i when folds i & j are not used for model fitting\n",
    "  for f1 in range(K-1):\n",
    "    for f2 in range(f1+1, K):\n",
    "      ho_errors[(f1,f2)] = losses(data, algo, vals[f1], column)\n",
    "      ho_errors[(f2,f1)] = losses(data[data[column] != vals[f1]], algo, vals[f2], column)\n",
    "\n",
    "  #loops over all points in the two folds, except when the values are equal\n",
    "  out_mat = np.zeros((K, 2))\n",
    "  for f1 in range(K):\n",
    "    e_out = losses(data, algo, vals[f1], column)\n",
    "\n",
    "    e_bar_t = np.array([])\n",
    "    for f2 in range(K):\n",
    "      if f1 != f2:\n",
    "        e_bar_t = np.concatenate((e_bar_t, ho_errors[(f2,f1)]))\n",
    "\n",
    "    out_mat[f1,0] = np.mean(e_bar_t) - np.mean(e_out)\n",
    "    out_mat[f1,1] = np.var(e_out) / len(data[data[column] == vals[f1]].index)\n",
    "\n",
    "  all_ho_errors = np.array([])\n",
    "  #produces final hold-out error vector for the values computed\n",
    "  for f1 in range(K-1):\n",
    "    for f2 in range(f1+1, K):\n",
    "      all_ho_errors = np.concatenate((all_ho_errors, ho_errors[(f1,f2)], ho_errors[(f2,f1)]))\n",
    "\n",
    "  #returns dictionary with outputs\n",
    "  return {\"pivots\": out_mat, \"errs\": all_ho_errors}"
   ]
  },
  {
   "cell_type": "code",
   "execution_count": null,
   "metadata": {
    "id": "zBBtu7Nhr6Wi"
   },
   "outputs": [],
   "source": [
    "import datetime\n",
    "import math\n",
    "\n",
    "def nested_loocv(data, algo, column, reps=50, alpha=0.1, bias_reps=None, time=False):\n",
    "  \"\"\" Nested LOOCV\n",
    "  Performs Nested LOOCV over several reps and computes bias\n",
    "  Inputs:\n",
    "  - data A dataframe of features and response variable\n",
    "  - algo A classification algorithm object, with the attributes fit and predict\n",
    "  - column The features who's unique values will be used as partitions\n",
    "  - reps The number of times the algorithm should be repeated, the higher the more accurate it is\n",
    "  - alpha The error rate. Must be in (0, 0.5)\n",
    "  - bias_reps The number of repetitions used to calculate the bias\n",
    "  - time Useful for several repetitions to get an estimate of how long it'll take to run\n",
    "  Outputs:\n",
    "  - sd_infl The multiplicative factor needed to correct the interval width\n",
    "  - err_hat Mean of CV prediction erorrs corrected for bias\n",
    "  - ci_lo Lower endpoint for CV confidence interval on prediction error \n",
    "  - ci_hi Higher endpoint for CV confidence interval on prediction error\n",
    "  - raw_mean Mean of CV prediction errors without correction for bias\n",
    "  - bias_est Estimation of bias from Naive LOOCV\n",
    "  - sd Standard deviation of the prediction errors\n",
    "  - running_sd_infl Used to evaluate how stable the estimate is and if more replicates are needed\n",
    "  \"\"\"\n",
    "\n",
    "  #number of folds\n",
    "  K = len(data[column].unique())\n",
    "\n",
    "  #time estimation\n",
    "  if time == True:\n",
    "    t1 = datetime.datetime.now()\n",
    "    temp = nested_loocv_helper(data, algo, column)\n",
    "    t2 = datetime.datetime.now()\n",
    "    print(\"Estimated time required: {}\".format((t2-t1)*reps))\n",
    "\n",
    "  #runs the algorithm several time appending the results for each repetition\n",
    "  var_pivots = np.zeros((reps*K, 2))\n",
    "  ho_errs = np.array([])\n",
    "  for i in range(reps):\n",
    "    var_pivots[K*i:K*(i+1)] = nested_loocv_helper(data, algo, column)[\"pivots\"]\n",
    "    ho_errs = np.concatenate((ho_errs, nested_loocv_helper(data, algo, column)[\"errs\"]))\n",
    "    print(\"...{} rep completed!\".format(i))\n",
    "\n",
    "  n_sub = math.floor((len(data[column])) * (K-1) / K)\n",
    "  #estimation of inflation after each repetition\n",
    "  ugp_infl = np.sqrt(max(0, np.mean(var_pivots[:,0]**2 - var_pivots[:,1]))) / (np.std(ho_errs) / np.sqrt(n_sub))\n",
    "  ugp_infl = max(1, min(ugp_infl, np.sqrt(K)))\n",
    "\n",
    "  #estimate of inflation at each time step\n",
    "  infl_est2 = np.sqrt(np.maximum(0, np.array([np.mean(var_pivots[:(i+1)*K,0]**2 - var_pivots[:(i+1)*K, 1]) for i in range(reps)]))) / (np.std(ho_errs) / np.sqrt(n_sub))\n",
    "\n",
    "  #calculates the bias using Naive LOOCV result\n",
    "  cv_means = np.array([])\n",
    "  bias_est = 0\n",
    "  if bias_reps is None:\n",
    "    bias_reps = math.ceil(reps / 5)\n",
    "  if bias_reps == 0:\n",
    "    bias_est = 0\n",
    "  else:\n",
    "    for i in range(bias_reps):\n",
    "      temp = naive_loocv(data, algo, column)\n",
    "      cv_means = np.append(cv_means, temp[\"err_hat\"])\n",
    "      print(\"...{} bias rep completed!\".format(i))\n",
    "\n",
    "    bias_est = (np.mean(ho_errs) - np.mean(cv_means)) * (1 + ((K - 2) / (K))**(1.5))\n",
    "\n",
    "  pred_est = np.mean(ho_errs) - bias_est\n",
    "  ci_lo = pred_est - stats.norm.ppf(1-alpha/2) * np.std(ho_errs) / np.sqrt(len(data[column])) * ugp_infl\n",
    "  ci_hi = pred_est + stats.norm.ppf(1-alpha/2) * np.std(ho_errs) / np.sqrt(len(data[column])) * ugp_infl\n",
    "\n",
    "  return {\"sd_infl\": ugp_infl, \"err_hat\": pred_est, \"ci_lo\": ci_lo, \"ci_hi\": ci_hi, \"raw_mean\": np.mean(ho_errs), \"bias_est\": bias_est, \"sd\": np.std(ho_errs), \"running_sd_inf1\": infl_est2}"
   ]
  },
  {
   "cell_type": "code",
   "execution_count": 83,
   "metadata": {
    "id": "IsPjEuhgSSif"
   },
   "outputs": [],
   "source": [
    "def naive_tenfoldcv(data, algo=None, alpha=0.1, mixed_effects = False):\n",
    "    \"\"\" Naive 10-fold CV\n",
    "    Performs Naive 10-fold Cross Validation on data provided\n",
    "    Inputs:\n",
    "    - data A dataframe of features and response variable\n",
    "    - algo A classification algorithm object, with the attributes fit and predict\n",
    "    - alpha The error rate. Must be in (0, 0.5)\n",
    "    Outputs:\n",
    "    - err_hat Mean of CV prediction errors\n",
    "    - ci_lo Lower endpoint for CV confidence interval on prediction error \n",
    "    - ci_hi Higher endpoint for CV confidence interval on prediction error\n",
    "    - sd Standard Deviation of the CV prediction errors\n",
    "    \"\"\"\n",
    "\n",
    "    X = data.drop(columns=[outcomevar]).to_numpy()\n",
    "    y = data[outcomevar].to_numpy()\n",
    "\n",
    "    fold_id = np.array([i % 10 for i in range(len(data.index))])\n",
    "    np.random.shuffle(fold_id)\n",
    "\n",
    "    errors = np.array([])\n",
    "    fig, ax = plt.subplots()\n",
    "    sensitivity_10fold = []\n",
    "    specificity_10fold = []\n",
    "    balanced_accuracy_10fold = []\n",
    "    thr = []\n",
    "    \n",
    "    for k in range(10):\n",
    "        if mixed_effects:\n",
    "            md = Lmer(formula=formula, data=data[fold_id != k], family='binomial')\n",
    "            md.fit()\n",
    "            predictions = md.predict(data[fold_id == k])\n",
    "        else:\n",
    "            algo.fit(X[fold_id != k], y[fold_id != k])\n",
    "            predictions = algo.predict(X[fold_id == k])\n",
    "            pred_prob_k = algo.predict_proba(X[fold_id == k])\n",
    "            \n",
    "            ind_true = np.where(y[fold_id == k] == 1)\n",
    "            ind_false = np.where(y[fold_id == k] == 0) \n",
    "            fpr, tpr, thresholds = metrics.roc_curve(y[fold_id == k], pred_prob_k[:,1])\n",
    "            data_roc = np.vstack((fpr,tpr)).T\n",
    "            fpr_plot = pd.DataFrame(data=data_roc, columns=[\"fpr\", \"tpr\"])\n",
    "            # This is the ROC curve \n",
    "            sns.set()\n",
    "            sns.lineplot(data=fpr_plot,  x=\"fpr\", y=\"tpr\", ax=ax)\n",
    "        \n",
    "            balanced_accuracy_10fold_temp = (tpr+(1-fpr))/2\n",
    "            balanced_accuracy_10fold.append((tpr+(1-fpr))/2)\n",
    "\n",
    "            max_val = max(balanced_accuracy_10fold_temp.reshape(-1,1))\n",
    "            ind_max = np.argmax(balanced_accuracy_10fold_temp.reshape(-1,1))\n",
    "            sensitivity_10fold.append(tpr[ind_max])\n",
    "            specificity_10fold.append(1 - fpr[ind_max])\n",
    "            thr.append(thresholds[ind_max])\n",
    "    \n",
    "        error_k = abs(predictions - y[fold_id == k])\n",
    "        errors = np.concatenate((errors, error_k))\n",
    "\n",
    "    err_hat = np.mean(errors)\n",
    "    #ci_lo = np.mean(errors) - stats.norm.ppf(1-alpha/2) * np.std(errors) / np.sqrt(len(data.index))\n",
    "    #ci_hi = np.mean(errors) + stats.norm.ppf(1-alpha/2) * np.std(errors) / np.sqrt(len(data.index))\n",
    "    ci_lo = 0\n",
    "    ci_hi = 0\n",
    "    sd = np.std(errors)\n",
    "    \n",
    "    #print specificity and sensitivity\n",
    "    print(\"Sensitivity: {} | Specificity: {}\".format(np.mean(sensitivity_10fold), np.mean(specificity_10fold)))\n",
    "\n",
    "    return {'err_hat': err_hat, 'ci_lo': ci_lo, 'ci_hi': ci_hi, \"sd\": sd}"
   ]
  },
  {
   "cell_type": "code",
   "execution_count": null,
   "metadata": {
    "id": "N17HonN3ncDB"
   },
   "outputs": [],
   "source": [
    "def nested_tenfoldcv_helper(data, algo=None, mixed_effects = False):\n",
    "  \"\"\" Nested 10-fold CV helper\n",
    "  Function to aid Nested 10-fold CV. Similar to Naive but with additional nesting stage\n",
    "  Inputs:\n",
    "  - data A dataframe of features and response variable\n",
    "  - algo A classification algorithm object, with the attributes fit and predict\n",
    "  - alpha The error rate. Must be in (0, 0.5)\n",
    "  Outputs:\n",
    "  - out-mat Vector of difference statistics with same length as target\n",
    "  - all_ho_errors Vector of hold-out errors not used in model training\n",
    "  \"\"\"\n",
    "  if mixed_effects:\n",
    "    outcomevar = 'Tremor'\n",
    "\n",
    "  X = data.drop(columns=[outcomevar]).to_numpy()\n",
    "  y = data[outcomevar].to_numpy()\n",
    "\n",
    "  fold_id = np.array([i % 10 for i in range(len(y) // 10 * 10)])\n",
    "  np.random.shuffle(fold_id)\n",
    "  fold_id = np.concatenate((fold_id, np.repeat(10, len(y) % 10)))\n",
    "\n",
    "  ho_errors = np.zeros((10, 10, len(y) // 10))\n",
    "  for f1 in range(9):\n",
    "    for f2 in range(f1+1, 10):\n",
    "      test_idx = np.append(np.where(fold_id == f1), np.where(fold_id == f2))\n",
    "      if mixed_effects:\n",
    "        md = Lmer(formula=formula, data=np.delete(data, test_idx, 0), family='binomial')\n",
    "        md.fit()\n",
    "        preds = md.predict(data)\n",
    "      else:\n",
    "        algo.fit(np.delete(X, test_idx, 0), np.delete(y, test_idx, 0))\n",
    "        preds = algo.predict(X)\n",
    "      ho_errors[f1,f2] = abs(preds[fold_id == f1] - y[fold_id == f1])\n",
    "      ho_errors[f2,f1] = abs(preds[fold_id == f2] - y[fold_id == f2])\n",
    "\n",
    "  out_mat = np.zeros((10, 2))\n",
    "  for f1 in range(10):\n",
    "    test_idx = np.where(fold_id == f1)\n",
    "    if mixed_effects:\n",
    "      md = Lmer(formula=formula, data=np.delete(data, test_idx, 0), family='binomial')\n",
    "      md.fit()\n",
    "      preds = md.predict(data[test_idx])\n",
    "    else:\n",
    "      algo.fit(np.delete(X, test_idx, 0), np.delete(y, test_idx, 0))\n",
    "      preds = algo.predict(X[test_idx])\n",
    "    e_out = abs(preds - y[test_idx])\n",
    "\n",
    "    e_bar_t = np.array([])\n",
    "    for f2 in range(10):\n",
    "      if f1 != f2:\n",
    "        e_bar_t = np.concatenate((e_bar_t, ho_errors[f2,f1]))\n",
    "\n",
    "    out_mat[f1,0] = np.mean(e_bar_t) - np.mean(e_out)\n",
    "    out_mat[f1,1] = np.var(e_out) / len(test_idx)\n",
    "\n",
    "  all_ho_errors = np.array([])\n",
    "  for f1 in range(9):\n",
    "    for f2 in range(f1+1, 10):\n",
    "      all_ho_errors = np.concatenate((all_ho_errors, ho_errors[f1,f2], ho_errors[f2,f1]))\n",
    "\n",
    "  return {\"pivots\": out_mat, \"errs\": all_ho_errors}"
   ]
  },
  {
   "cell_type": "code",
   "execution_count": null,
   "metadata": {
    "id": "96ZmK_aA0n3U"
   },
   "outputs": [],
   "source": [
    "def nested_tenfoldcv(data, algo=None, reps=50, alpha=0.1, bias_reps=None, time=False, mixed_effects=False):\n",
    "  \"\"\" Nested 10-fold CV\n",
    "  Performs Nested 10-fold CV over several reps and computes bias\n",
    "  Inputs:\n",
    "  - data A dataframe of features and response variable\n",
    "  - algo A classification algorithm object, with the attributes fit and predict\n",
    "  - reps The number of times the algorithm should be repeated, the higher the more accurate it is\n",
    "  - alpha The error rate. Must be in (0, 0.5)\n",
    "  - bias_reps The number of repetitions used to calculate the bias\n",
    "  - time Useful for several repetitions to get an estimate of how long it'll take to run\n",
    "  Outputs:\n",
    "  - sd_infl The multiplicative factor needed to correct the interval width\n",
    "  - err_hat Mean of CV prediction erorrs corrected for bias\n",
    "  - ci_lo Lower endpoint for CV confidence interval on prediction error \n",
    "  - ci_hi Higher endpoint for CV confidence interval on prediction error\n",
    "  - raw_mean Mean of CV prediction errors without correction for bias\n",
    "  - bias_est Estimation of bias from Naive LOOCV\n",
    "  - sd Standard deviation of the prediction errors\n",
    "  - running_sd_infl Used to evaluate how stable the estimate is and if more replicates are needed\n",
    "  \"\"\"\n",
    "  if mixed_effects:\n",
    "    outcomevar = 'Tremor'\n",
    "\n",
    "  X = data.drop(columns=[outcomevar]).to_numpy()\n",
    "  y = data[outcomevar].to_numpy()\n",
    "\n",
    "  if time == True:\n",
    "    t1 = datetime.datetime.now()\n",
    "    temp = nested_tenfoldcv_helper(data, algo)\n",
    "    t2 = datetime.datetime.now()\n",
    "    print(\"Estimated time required: {}\".format((t2-t1)*reps))\n",
    "\n",
    "  var_pivots = np.zeros((reps*10, 2))\n",
    "  ho_errs = np.array([])\n",
    "  for i in range(reps):\n",
    "    var_pivots[10*i:10*(i+1)] = nested_tenfoldcv_helper(data, algo, mixed_effects)[\"pivots\"]\n",
    "    ho_errs = np.concatenate((ho_errs, nested_tenfoldcv_helper(data, algo)[\"errs\"]))\n",
    "    print(\"...{} rep completed!\".format(i))\n",
    "\n",
    "  n_sub = math.floor(len(y) * 9 / 10)\n",
    "  ugp_infl = np.sqrt(max(0, np.mean(var_pivots[:,0]**2 - var_pivots[:,1]))) / (np.std(ho_errs) / np.sqrt(n_sub))\n",
    "  ugp_infl = max(1, min(ugp_infl, np.sqrt(10)))\n",
    "\n",
    "  infl_est2 = np.sqrt(np.maximum(0, np.array([np.mean(var_pivots[:(i+1)*10,0]**2 - var_pivots[:(i+1)*10, 1]) for i in range(reps)]))) / (np.std(ho_errs) / np.sqrt(n_sub))\n",
    "\n",
    "  cv_means = np.array([])\n",
    "  bias_est = 0\n",
    "  if bias_reps is None:\n",
    "    bias_reps = math.ceil(reps / 5)\n",
    "  if bias_reps == 0:\n",
    "    bias_est = 0\n",
    "  else:\n",
    "    for i in range(bias_reps):\n",
    "      temp = naive_tenfoldcv(data, algo, mixed_effects)\n",
    "      cv_means = np.append(cv_means, temp[\"err_hat\"])\n",
    "      print(\"...{} bias rep completed!\".format(i))\n",
    "\n",
    "    bias_est = (np.mean(ho_errs) - np.mean(cv_means)) * (1 + 0.8**1.5)\n",
    "\n",
    "  pred_est = np.mean(ho_errs) - bias_est\n",
    "  ci_lo = pred_est - stats.norm.ppf(1-alpha/2) * np.std(ho_errs) / np.sqrt(len(y)) * ugp_infl\n",
    "  ci_hi = pred_est + stats.norm.ppf(1-alpha/2) * np.std(ho_errs) / np.sqrt(len(y)) * ugp_infl\n",
    "\n",
    "  return {\"sd_inf1\": ugp_infl, \"err_hat\": pred_est, \"ci_lo\": ci_lo, \"ci_hi\": ci_hi, \"raw_mean\": np.mean(ho_errs), \"bias_est\": bias_est, \"sd\": np.std(ho_errs), \"running_sd_inf1\": infl_est2}"
   ]
  },
  {
   "cell_type": "code",
   "execution_count": 3,
   "metadata": {
    "id": "BJCFEaGGR2Lf"
   },
   "outputs": [],
   "source": [
    "Y_features_whiten = Y_features[:,1:46]\n",
    "Y_features_whiten = Y_features_whiten - np.mean(Y_features_whiten,axis=0)\n",
    "from sklearn.decomposition import PCA\n",
    "pca = PCA(n_components=23)\n",
    "pca.fit(Y_features_whiten)\n",
    "Y_features_whiten = pca.transform(Y_features_whiten)\n",
    "Y_features_final = np.zeros((len(Y_features[:,0]), 28))\n",
    "Y_features_final[:,0] = Y_features[:,0]\n",
    "Y_features_final[:,1:24] = Y_features_whiten\n",
    "Y_features_final[:,24:] = Y_features[:,46:]\n",
    "\n",
    "data_features = pd.DataFrame(data=Y_features_final, columns=[\"ID\", \"Col2\", \"Col3\", \"Col4\", \"Col5\", \"Col6\", \"Col7\", \"Col8\", \"Col9\", \"Col10\",\"Col11\", \"Col12\", \"Col13\", \"Col14\", \"Col15\", \n",
    "                                                             \"Col16\", \"Col17\", \"Col18\", \"Col19\", \"Col20\", \"Col21\", \"Col22\", \"Col23\", \"Col24\", \"Medication_Intake\",\"Prototype_ID\",\n",
    "                                                             \"Non-tremor/Tremor\",\"Activity_label\"])\n",
    "\n",
    "data_features = data_features.dropna()\n",
    "data_features = data_features.reset_index(drop=True)\n",
    "data_features = data_features.drop(columns=\"Activity_label\")\n",
    "data_features_id = data_features.drop(columns=[\"Prototype_ID\", \"Medication_Intake\"])\n",
    "#data_features_med = data_features.drop(columns=[\"Prototype_ID\", ID\"])\n",
    "data_features_cols = data_features.drop(columns=[\"Prototype_ID\", \"ID\", \"Medication_Intake\"])\n",
    "\n",
    "outcomevar = 'Non-tremor/Tremor'\n",
    "#outcomevar_id = 48\n",
    "idcolumn = 'ID'\n",
    "idcolumn_id = 1\n",
    "medcolumn = 'Medication_Intake'\n",
    "numestimators = 100"
   ]
  },
  {
   "cell_type": "code",
   "execution_count": 16,
   "metadata": {},
   "outputs": [
    {
     "data": {
      "text/plain": [
       "30.35567761757258"
      ]
     },
     "execution_count": 16,
     "metadata": {},
     "output_type": "execute_result"
    }
   ],
   "source": [
    "data_features[\"Col4\"].max()"
   ]
  },
  {
   "cell_type": "code",
   "execution_count": 6,
   "metadata": {
    "colab": {
     "base_uri": "https://localhost:8080/",
     "height": 296
    },
    "id": "OE2q8NxKBuv8",
    "outputId": "33917765-1b53-4f53-9cff-0fa789e42d25"
   },
   "outputs": [
    {
     "data": {
      "text/plain": [
       "<matplotlib.axes._subplots.AxesSubplot at 0x129030d62c8>"
      ]
     },
     "execution_count": 6,
     "metadata": {},
     "output_type": "execute_result"
    },
    {
     "data": {
      "image/png": "[encoded data removed]",
      "text/plain": [
       "<Figure size 432x288 with 1 Axes>"
      ]
     },
     "metadata": {
      "needs_background": "light"
     },
     "output_type": "display_data"
    }
   ],
   "source": [
    "import seaborn as sns\n",
    "\n",
    "sns.histplot(data=data_features, x=\"ID\")"
   ]
  },
  {
   "cell_type": "code",
   "execution_count": null,
   "metadata": {
    "colab": {
     "base_uri": "https://localhost:8080/",
     "height": 297
    },
    "id": "xFAeKNOn86LZ",
    "outputId": "214901b9-83ce-430e-8009-738ff0c1680a"
   },
   "outputs": [
    {
     "data": {
      "text/plain": [
       "<matplotlib.axes._subplots.AxesSubplot at 0x7f51ae6e5210>"
      ]
     },
     "execution_count": 7,
     "metadata": {},
     "output_type": "execute_result"
    },
    {
     "data": {
      "image/png": "[encoded data removed]",
      "text/plain": [
       "<Figure size 432x288 with 1 Axes>"
      ]
     },
     "metadata": {
      "needs_background": "light"
     },
     "output_type": "display_data"
    }
   ],
   "source": [
    "sns.histplot(data=data_features, x=\"Prototype_ID\")"
   ]
  },
  {
   "cell_type": "code",
   "execution_count": null,
   "metadata": {
    "colab": {
     "base_uri": "https://localhost:8080/",
     "height": 299
    },
    "id": "rgHV7ZcN8_Og",
    "outputId": "5035584a-cc98-4660-dda0-7e0fd6c4d325"
   },
   "outputs": [
    {
     "data": {
      "text/plain": [
       "<matplotlib.axes._subplots.AxesSubplot at 0x7f519ee589d0>"
      ]
     },
     "execution_count": 10,
     "metadata": {},
     "output_type": "execute_result"
    },
    {
     "data": {
      "image/png": "[encoded data removed]",
      "text/plain": [
       "<Figure size 432x288 with 1 Axes>"
      ]
     },
     "metadata": {
      "needs_background": "light"
     },
     "output_type": "display_data"
    }
   ],
   "source": [
    "sns.countplot(data=data_features, x=\"Medication_Intake\")"
   ]
  },
  {
   "cell_type": "markdown",
   "metadata": {
    "id": "QxkbOzY_3OE6"
   },
   "source": [
    "##Causal Bootstrapping for sampling"
   ]
  },
  {
   "cell_type": "code",
   "execution_count": 4,
   "metadata": {
    "id": "sCJdLtEN3Uz2"
   },
   "outputs": [],
   "source": [
    "###Adjustment for factors####\n",
    "# Estimating the empirical probabilities of the different factors\n",
    "# Age: 58 69 59 69 63 59 49 72 ---> categorical of above and below 65\n",
    "Age = np.ones(len(data_features))\n",
    "Age[data_features[\"ID\"] == 1] = 1\n",
    "Age[data_features[\"ID\"] == 2] = 2\n",
    "Age[data_features[\"ID\"] == 3] = 1\n",
    "Age[data_features[\"ID\"] == 4] = 2\n",
    "Age[data_features[\"ID\"] == 5] = 1\n",
    "Age[data_features[\"ID\"] == 6] = 1\n",
    "Age[data_features[\"ID\"] == 7] = 1\n",
    "Age[data_features[\"ID\"] == 8] = 2\n",
    "# Time since diagnosis: 8 10 6 8 6 4 5 13 --->  Categorical of more or less then 7 years since diagnosis \n",
    "TimeDiagnose = np.ones(len(data_features))\n",
    "TimeDiagnose[data_features[\"ID\"] == 1] = 2\n",
    "TimeDiagnose[data_features[\"ID\"] == 2] = 2\n",
    "TimeDiagnose[data_features[\"ID\"] == 3] = 1\n",
    "TimeDiagnose[data_features[\"ID\"] == 4] = 2\n",
    "TimeDiagnose[data_features[\"ID\"] == 5] = 1\n",
    "TimeDiagnose[data_features[\"ID\"] == 6] = 1\n",
    "TimeDiagnose[data_features[\"ID\"] == 7] = 1\n",
    "TimeDiagnose[data_features[\"ID\"] == 8] = 2\n",
    "# Probability of tremor ON per age group p(T|A)\n",
    "\n",
    "# Categorize tremor prototypes\n",
    "proto_len = np.sum(data_features[\"Prototype_ID\"] != 0)\n",
    "Tremor_proto = np.ones(len(data_features))\n",
    "Tremor_proto[data_features[\"Prototype_ID\"] == 1] = 1\n",
    "Tremor_proto[data_features[\"Prototype_ID\"] == 2] = 1\n",
    "Tremor_proto[data_features[\"Prototype_ID\"] == 3] = 2\n",
    "Tremor_proto[data_features[\"Prototype_ID\"] == 4] = 2\n",
    "Tremor_proto[data_features[\"Prototype_ID\"] == 5] = 3\n",
    "Tremor_proto[data_features[\"Prototype_ID\"] == 6] = 4\n",
    "Tremor_proto[data_features[\"Prototype_ID\"] == 7] = 4\n",
    "\n",
    "Tremor_arm_rest = np.ones(len(data_features))\n",
    "Tremor_arm_rest[data_features[\"Prototype_ID\"] == 1] = 1\n",
    "Tremor_arm_rest[data_features[\"Prototype_ID\"] == 3] = 1\n",
    "Tremor_arm_rest[data_features[\"Prototype_ID\"] == 6] = 1\n",
    "\n",
    "Tremor_arm_rest[data_features[\"Prototype_ID\"] == 2] = 2\n",
    "Tremor_arm_rest[data_features[\"Prototype_ID\"] == 4] = 2\n",
    "Tremor_arm_rest[data_features[\"Prototype_ID\"] == 7] = 2"
   ]
  },
  {
   "cell_type": "code",
   "execution_count": null,
   "metadata": {
    "colab": {
     "base_uri": "https://localhost:8080/",
     "height": 282
    },
    "id": "IbIxFYsHu8aF",
    "outputId": "fec904a6-2055-47eb-99db-7f2fe0d5e8fe"
   },
   "outputs": [
    {
     "data": {
      "text/plain": [
       "<matplotlib.axes._subplots.AxesSubplot at 0x7f519eb6ccd0>"
      ]
     },
     "execution_count": 14,
     "metadata": {},
     "output_type": "execute_result"
    },
    {
     "data": {
      "image/png": "[encoded data removed]",
      "text/plain": [
       "<Figure size 432x288 with 1 Axes>"
      ]
     },
     "metadata": {
      "needs_background": "light"
     },
     "output_type": "display_data"
    }
   ],
   "source": [
    "sns.countplot(data=Age)"
   ]
  },
  {
   "cell_type": "code",
   "execution_count": 5,
   "metadata": {
    "id": "D6JQ3r0UE0kx"
   },
   "outputs": [],
   "source": [
    "from sklearn.ensemble import RandomForestClassifier\n",
    "\n",
    "Ind_proto_known = data_features[\"Prototype_ID\"] != 0\n",
    "X_proto_train = data_features[Ind_proto_known]\n",
    "X_proto_train = X_proto_train.drop(columns=[\"Prototype_ID\", \"Medication_Intake\", \"ID\", \"Non-tremor/Tremor\"])\n",
    "y_proto_train = data_features[\"Prototype_ID\"][Ind_proto_known]\n",
    "\n",
    "Ind_proto_unknown = data_features[\"Prototype_ID\"] == 0\n",
    "X_proto_test = data_features[Ind_proto_unknown]\n",
    "X_proto_test = X_proto_test.drop(columns=[\"Prototype_ID\", \"Medication_Intake\", \"ID\", \"Non-tremor/Tremor\"])\n",
    "\n",
    "rf = RandomForestClassifier(n_estimators = 100, random_state = 0, class_weight=\"balanced\")\n",
    "# Train the model on training data\n",
    "rf.fit(X_proto_train, y_proto_train);\n",
    "predictions_proto = rf.predict(X_proto_test)\n",
    "prob_predictions_proto = rf.predict_proba(X_proto_test)\n",
    "y_proto = data_features[\"Prototype_ID\"]\n",
    "y_proto[Ind_proto_unknown] = predictions_proto\n",
    "data_features[\"Prototype_ID\"][Ind_proto_unknown] = predictions_proto\n",
    "\n",
    "y_proto_group_train = Tremor_proto\n",
    "y_proto_group_train = y_proto_group_train[Ind_proto_known]\n",
    "rf = RandomForestClassifier(n_estimators = 100, random_state = 0, class_weight=\"balanced\")\n",
    "rf.fit(X_proto_train, y_proto_group_train);\n",
    "predictions_proto_group = rf.predict(X_proto_test)\n",
    "prob_predictions_proto_group = rf.predict_proba(X_proto_test)\n",
    "y_proto_group = Tremor_proto\n",
    "y_proto_group[Ind_proto_unknown] = predictions_proto_group\n",
    "Tremor_proto[Ind_proto_unknown] = predictions_proto_group\n",
    "\n",
    "y_arm_rest_train = Tremor_arm_rest\n",
    "y_arm_rest_train = y_arm_rest_train[Ind_proto_known]\n",
    "rf = RandomForestClassifier(n_estimators = numestimators, random_state = 0, class_weight=\"balanced\")\n",
    "rf.fit(X_proto_train, y_arm_rest_train);\n",
    "predictions_arm_rest = rf.predict(X_proto_test)\n",
    "prob_predictions_arm_rest = rf.predict_proba(X_proto_test)\n",
    "y_arm_rest = Tremor_arm_rest\n",
    "y_arm_rest[Ind_proto_unknown] = predictions_arm_rest\n",
    "Tremor_arm_rest[Ind_proto_unknown] = predictions_arm_rest\n",
    "\n",
    "Tremor_on_off = np.zeros(len(data_features))\n",
    "Tremor_on_off[data_features[\"Non-tremor/Tremor\"]==1] = 1\n",
    "Tremor_on_off[data_features[\"Non-tremor/Tremor\"]==0] = 0"
   ]
  },
  {
   "cell_type": "code",
   "execution_count": 5,
   "metadata": {
    "colab": {
     "base_uri": "https://localhost:8080/"
    },
    "id": "jlHmxmZF5fEl",
    "outputId": "f6f06a7e-f99a-4da0-b707-1c35d17f5498"
   },
   "outputs": [
    {
     "name": "stdout",
     "output_type": "stream",
     "text": [
      "ID   Medication_Intake\n",
      "7.0  1.0                  0.115648\n",
      "4.0  1.0                  0.096842\n",
      "8.0  1.0                  0.090529\n",
      "1.0  1.0                  0.077596\n",
      "2.0  1.0                  0.073814\n",
      "3.0  1.0                  0.070910\n",
      "7.0  2.0                  0.068486\n",
      "6.0  1.0                  0.066102\n",
      "1.0  2.0                  0.050892\n",
      "4.0  2.0                  0.050705\n",
      "5.0  1.0                  0.049813\n",
      "8.0  2.0                  0.049600\n",
      "2.0  2.0                  0.040836\n",
      "5.0  2.0                  0.039504\n",
      "6.0  2.0                  0.034736\n",
      "3.0  2.0                  0.023987\n",
      "dtype: float64\n"
     ]
    }
   ],
   "source": [
    "joint_probs = data_features.value_counts([\"ID\", \"Medication_Intake\"], normalize=True)\n",
    "print(joint_probs)"
   ]
  },
  {
   "cell_type": "code",
   "execution_count": null,
   "metadata": {
    "id": "q-7Q-vySwNY_"
   },
   "outputs": [],
   "source": [
    "def kron_delt(a):\n",
    "  if type(a) == int:\n",
    "    if a == 0:\n",
    "      return 1\n",
    "    else:\n",
    "      return 0\n",
    "  else:\n",
    "    result = np.zeros(len(a))\n",
    "    for i in range(len(a)):\n",
    "      if a[i] == 0:\n",
    "        result[i] = 1\n",
    "      else:\n",
    "        result[i] = 0\n",
    "    return result"
   ]
  },
  {
   "cell_type": "code",
   "execution_count": 6,
   "metadata": {
    "id": "ARMxb3U0JhPn"
   },
   "outputs": [],
   "source": [
    "p_med_n = np.zeros(len(data_features))\n",
    "p_age_n = np.zeros(len(data_features))\n",
    "p_proto_given_t_n = np.zeros(len(data_features))\n",
    "p_p_a_m_t = np.zeros(len(data_features))\n",
    "p_t_given_a_n = np.zeros(len(data_features))\n",
    "w_n = np.zeros(len(data_features))\n",
    "\n",
    "for n in range(len(data_features)):\n",
    "    p_med_n[n] = np.sum(data_features[\"Medication_Intake\"] == data_features[\"Medication_Intake\"][n])/len(data_features)    \n",
    "    p_age_n[n] = np.sum(Age == Age[n])/len(data_features)\n",
    "    p_t_given_a_n[n] = np.sum(Tremor_on_off[Age == Age[n]] == 1)/np.sum(Tremor_on_off == 1)\n",
    "    p_proto_given_t_n[n] = np.sum(Tremor_proto[Tremor_on_off == Tremor_on_off[n]] == Tremor_proto[n])/np.sum(Tremor_on_off == 1)\n",
    "    ind_med = data_features[\"Medication_Intake\"][Tremor_proto==Tremor_proto[n]] == data_features[\"Medication_Intake\"][n]\n",
    "    data_temp_proto = data_features[\"Non-tremor/Tremor\"][Tremor_proto==Tremor_proto[n]]\n",
    "    age_temp = Age[Tremor_proto==Tremor_proto[n]]\n",
    "    data_temp_proto = data_temp_proto[ind_med]\n",
    "    p_p_a_m_t[n] = np.sum(data_temp_proto[age_temp[ind_med] == Age[n]]==1)/len(data_features)\n",
    "    w_n[n] = p_med_n[n]*p_age_n[n]*p_t_given_a_n[n]*p_proto_given_t_n[n]/p_p_a_m_t[n]\n",
    "\n",
    "n_sample = len(data_features)\n",
    "ind_data_bootstrap = np.random.choice(range(len(data_features)), size = n_sample, replace=True, p = w_n/np.sum(w_n))\n",
    "     \n",
    "Y_features_controlled = Y_features_final[ind_data_bootstrap,:]\n",
    "data_features_bs = pd.DataFrame(data=Y_features_controlled, columns=[\"ID\", \"Col2\", \"Col3\", \"Col4\", \"Col5\", \"Col6\", \"Col7\", \"Col8\", \"Col9\", \"Col10\",\"Col11\", \"Col12\", \"Col13\", \"Col14\", \"Col15\", \n",
    "                                                                     \"Col16\", \"Col17\", \"Col18\", \"Col19\", \"Col20\", \"Col21\", \"Col22\", \"Col23\", \"Col24\", \"Medication_Intake\",\"Prototype_ID\",\n",
    "                                                                     \"Non-tremor/Tremor\",\"Activity_label\"])"
   ]
  },
  {
   "cell_type": "code",
   "execution_count": 7,
   "metadata": {
    "colab": {
     "base_uri": "https://localhost:8080/"
    },
    "id": "vGLMRlO78mBL",
    "outputId": "aa224805-b488-4351-ce09-ed48e391566a"
   },
   "outputs": [],
   "source": [
    "data_features_bs_id = data_features_bs.drop(columns=[\"Prototype_ID\", \"Medication_Intake\", \"Activity_label\"])"
   ]
  },
  {
   "cell_type": "code",
   "execution_count": 80,
   "metadata": {
    "colab": {
     "base_uri": "https://localhost:8080/"
    },
    "id": "tvOts9I8B9Jj",
    "outputId": "de6d1593-ea5d-43d8-c471-299591bfc843",
    "scrolled": false
   },
   "outputs": [
    {
     "name": "stdout",
     "output_type": "stream",
     "text": [
      "...1 processing complete\n",
      "...2 processing complete\n",
      "...4 processing complete\n",
      "...7 processing complete\n",
      "...5 processing complete\n",
      "...3 processing complete\n",
      "...8 processing complete\n",
      "...6 processing complete\n",
      "Sensitivity: 0.8404149625442432 | Specificity: 0.6846350657296347\n",
      "Results for Naive LOOCV using IDs as folds with a Logistic Regression Classifier:\n",
      " {'err_hat': 0.152235585567587, 'ci_lo': 0.15007904359578814, 'ci_hi': 0.1543921275393859, 'sd': 0.3592490947162997}\n"
     ]
    },
    {
     "data": {
      "image/png": "[encoded data removed]",
      "text/plain": [
       "<Figure size 432x288 with 1 Axes>"
      ]
     },
     "metadata": {},
     "output_type": "display_data"
    }
   ],
   "source": [
    "from sklearn import metrics\n",
    "\n",
    "clf1 = RandomForestClassifier(n_estimators = 100, random_state = 0, class_weight=\"balanced\")\n",
    "clf2 = LogisticRegression(class_weight=\"balanced\", random_state=0, solver=\"newton-cg\")\n",
    "\n",
    "naive_loocv_id_logreg_results = naive_loocv(data_features_bs_id, clf2, idcolumn)\n",
    "print(\"Results for Naive LOOCV using IDs as folds with a Logistic Regression Classifier:\\n {}\".format(naive_loocv_id_logreg_results))"
   ]
  },
  {
   "cell_type": "code",
   "execution_count": 22,
   "metadata": {},
   "outputs": [
    {
     "name": "stdout",
     "output_type": "stream",
     "text": [
      "...1 processing complete\n",
      "...7 processing complete\n",
      "...8 processing complete\n",
      "...4 processing complete\n",
      "...6 processing complete\n",
      "...3 processing complete\n",
      "...5 processing complete\n",
      "...2 processing complete\n",
      "Sensitivity: 0.5437425042558626 | Specificity: 0.8319833466221407\n",
      "Results for Naive LOOCV using IDs as folds with a Random Forest Classifier:\n",
      " {'err_hat': 0.019925147507358718, 'ci_lo': 0.01908628143828742, 'ci_hi': 0.020764013576430016, 'sd': 0.13974310717945526}\n"
     ]
    },
    {
     "data": {
      "image/png": "[encoded data removed]",
      "text/plain": [
       "<Figure size 432x288 with 1 Axes>"
      ]
     },
     "metadata": {},
     "output_type": "display_data"
    }
   ],
   "source": [
    "naive_loocv_id_rf_results = naive_loocv(data_features_bs_id, clf1, idcolumn)\n",
    "print(\"Results for Naive LOOCV using IDs as folds with a Random Forest Classifier:\\n {}\".format(naive_loocv_id_rf_results))"
   ]
  },
  {
   "cell_type": "code",
   "execution_count": 85,
   "metadata": {},
   "outputs": [
    {
     "name": "stdout",
     "output_type": "stream",
     "text": [
      "Sensitivity: 0.9114284610602599 | Specificity: 0.9474602633491978\n",
      "Results for Naive 10-fold with a Random Forest Classifier:\n",
      " {'err_hat': 0.007858179832447623, 'ci_lo': 0, 'ci_hi': 0, 'sd': 0.08829738864863748}\n"
     ]
    },
    {
     "data": {
      "image/png": "[encoded data removed]",
      "text/plain": [
       "<Figure size 432x288 with 1 Axes>"
      ]
     },
     "metadata": {},
     "output_type": "display_data"
    }
   ],
   "source": [
    "naive_10fold_id_rf_results = naive_tenfoldcv(data_features_bs_id, clf1, idcolumn)\n",
    "print(\"Results for Naive 10-fold with a Random Forest Classifier:\\n {}\".format(naive_10fold_id_rf_results))"
   ]
  },
  {
   "cell_type": "code",
   "execution_count": 84,
   "metadata": {},
   "outputs": [
    {
     "name": "stdout",
     "output_type": "stream",
     "text": [
      "Sensitivity: 0.7821868972359809 | Specificity: 0.8955522803034898\n",
      "Results for Naive 10-fold with a Logistic Regression Classifier:\n",
      " {'err_hat': 0.14056818635873256, 'ci_lo': 0, 'ci_hi': 0, 'sd': 0.34757556206176116}\n"
     ]
    },
    {
     "data": {
      "image/png": "[encoded data removed]",
      "text/plain": [
       "<Figure size 432x288 with 1 Axes>"
      ]
     },
     "metadata": {},
     "output_type": "display_data"
    }
   ],
   "source": [
    "naive_10fold_id_logreg_results = naive_tenfoldcv(data_features_bs_id, clf2, idcolumn)\n",
    "print(\"Results for Naive 10-fold with a Logistic Regression Classifier:\\n {}\".format(naive_10fold_id_logreg_results))"
   ]
  },
  {
   "cell_type": "code",
   "execution_count": 48,
   "metadata": {},
   "outputs": [],
   "source": [
    "from sklearn.linear_model import LogisticRegression"
   ]
  },
  {
   "cell_type": "code",
   "execution_count": null,
   "metadata": {
    "colab": {
     "base_uri": "https://localhost:8080/"
    },
    "id": "GZsEV7czYmS8",
    "outputId": "15528ddb-8b5c-4740-a9db-ecb4bf425243"
   },
   "outputs": [
    {
     "name": "stdout",
     "output_type": "stream",
     "text": [
      "...1 processing complete\n",
      "...2 processing complete\n",
      "...3 processing complete\n",
      "...4 processing complete\n",
      "...5 processing complete\n",
      "...6 processing complete\n",
      "...7 processing complete\n",
      "...8 processing complete\n",
      "Results for Naive LOOCV using IDs as folds with a Logistic Regression Classifier:\n",
      " {'err_hat': 0.18309559009602963, 'ci_lo': 0.18077399330364438, 'ci_hi': 0.18541718688841488, 'sd': 0.38674487066206364}\n",
      "...0 rep completed!\n",
      "...1 rep completed!\n",
      "...2 rep completed!\n",
      "...3 rep completed!\n",
      "...4 rep completed!\n",
      "...1 processing complete\n",
      "...2 processing complete\n",
      "...3 processing complete\n",
      "...4 processing complete\n",
      "...5 processing complete\n",
      "...6 processing complete\n",
      "...7 processing complete\n",
      "...8 processing complete\n",
      "...0 bias rep completed!\n",
      "...1 processing complete\n",
      "...2 processing complete\n",
      "...3 processing complete\n",
      "...4 processing complete\n",
      "...5 processing complete\n",
      "...6 processing complete\n",
      "...7 processing complete\n",
      "...8 processing complete\n",
      "...1 bias rep completed!\n",
      "\n",
      "Results for Nested LOOCV using IDs as folds with a Logistic Regression Classifier:\n",
      " {'sd_infl': 2.8284271247461903, 'err_hat': 0.18156808637279706, 'ci_lo': 0.17496910185077189, 'ci_hi': 0.18816707089482224, 'raw_mean': 0.18544733592482024, 'bias_est': 0.0038792495520231745, 'sd': 0.38866003334946486, 'running_sd_inf1': array([57.53863852, 57.53863852, 57.53863852, 57.53863852, 57.53863852])}\n"
     ]
    }
   ],
   "source": [
    "from sklearn.linear_model import LogisticRegression\n",
    "\n",
    "naive_loocv_id_logreg_results = naive_loocv(data_features_id, clf2, idcolumn)\n",
    "print(\"Results for Naive LOOCV using IDs as folds with a Logistic Regression Classifier:\\n {}\".format(naive_loocv_id_logreg_results))\n",
    "\n",
    "nested_loocv_id_logreg_results = nested_loocv(data_features_id, clf2, idcolumn, reps=5, bias_reps=2)\n",
    "print(\"\\nResults for Nested LOOCV using IDs as folds with a Logistic Regression Classifier:\\n {}\".format(nested_loocv_id_logreg_results))"
   ]
  },
  {
   "cell_type": "code",
   "execution_count": null,
   "metadata": {
    "colab": {
     "base_uri": "https://localhost:8080/"
    },
    "id": "I7TbTXnnMkiG",
    "outputId": "60d6dfce-ccbe-4781-e423-1ef2580d0abb"
   },
   "outputs": [
    {
     "name": "stdout",
     "output_type": "stream",
     "text": [
      "...1 processing complete\n",
      "...2 processing complete\n",
      "...3 processing complete\n",
      "...4 processing complete\n",
      "...5 processing complete\n",
      "...6 processing complete\n",
      "...7 processing complete\n",
      "...8 processing complete\n",
      "Results for Naive LOOCV using IDs as folds with a Random Forest Classifier:\n",
      " {'err_hat': 0.10034496077569559, 'ci_lo': 0.09854132838988099, 'ci_hi': 0.10214859316151019, 'sd': 0.30045939762739937}\n",
      "...0 rep completed!\n",
      "...1 processing complete\n",
      "...2 processing complete\n",
      "...3 processing complete\n",
      "...4 processing complete\n",
      "...5 processing complete\n",
      "...6 processing complete\n",
      "...7 processing complete\n",
      "...8 processing complete\n",
      "...0 bias rep completed!\n",
      "\n",
      "Results for Nested LOOCV using IDs as folds with a Random Forest Classifier:\n",
      " {'sd_infl': 2.8284271247461903, 'err_hat': 0.10016452748799984, 'ci_lo': 0.09505681694378951, 'ci_hi': 0.10527223803221017, 'raw_mean': 0.10062275599495402, 'bias_est': 0.00045822850695417843, 'sd': 0.3008285507908682, 'running_sd_inf1': array([66.51767755])}\n"
     ]
    }
   ],
   "source": [
    "naive_loocv_id_rf_results = naive_loocv(data_features_id, clf1, idcolumn)\n",
    "print(\"Results for Naive LOOCV using IDs as folds with a Random Forest Classifier:\\n {}\".format(naive_loocv_id_rf_results))\n",
    "\n",
    "nested_loocv_id_rf_results = nested_loocv(data_features_id, clf1, idcolumn, reps=1, bias_reps=1)\n",
    "print(\"\\nResults for Nested LOOCV using IDs as folds with a Random Forest Classifier:\\n {}\".format(nested_loocv_id_rf_results))"
   ]
  },
  {
   "cell_type": "code",
   "execution_count": null,
   "metadata": {
    "colab": {
     "base_uri": "https://localhost:8080/"
    },
    "id": "xMqKFD2-lDTQ",
    "outputId": "d4339204-693e-4a0e-c123-1161c7567879"
   },
   "outputs": [
    {
     "name": "stdout",
     "output_type": "stream",
     "text": [
      "Results for Naive 10-fold CV with a Logistic Regression Classifier:\n",
      " {'err_hat': 0.1756902545251129, 'ci_lo': 0.17340580647787454, 'ci_hi': 0.17797470257235123, 'sd': 0.38055642024542685}\n",
      "...0 rep completed!\n",
      "...1 rep completed!\n",
      "...2 rep completed!\n",
      "...3 rep completed!\n",
      "...4 rep completed!\n",
      "...0 bias rep completed!\n",
      "...1 bias rep completed!\n",
      "\n",
      "Results for Nested 10-fold CV with a Logistic Regression Classifier:\n",
      " {'sd_inf1': 1, 'err_hat': 0.17558635669945558, 'ci_lo': 0.17330018724488885, 'ci_hi': 0.1778725261540223, 'raw_mean': 0.1760270526253478, 'bias_est': 0.0004406959258922283, 'sd': 0.38084318212274826, 'running_sd_inf1': array([0., 0., 0., 0., 0.])}\n"
     ]
    }
   ],
   "source": [
    "naive_tenfoldcv_logreg_result = naive_tenfoldcv(data_features_cols, clf2)\n",
    "print(\"Results for Naive 10-fold CV with a Logistic Regression Classifier:\\n {}\".format(naive_tenfoldcv_logreg_result))\n",
    "\n",
    "nested_tenfoldcv_logreg_result = nested_tenfoldcv(data_features_cols, clf2, reps=5, bias_reps=2)\n",
    "print(\"\\nResults for Nested 10-fold CV with a Logistic Regression Classifier:\\n {}\".format(nested_tenfoldcv_logreg_result))"
   ]
  },
  {
   "cell_type": "code",
   "execution_count": null,
   "metadata": {
    "colab": {
     "base_uri": "https://localhost:8080/"
    },
    "id": "3mqy5WGTjfV9",
    "outputId": "8c8e03c5-0020-4393-c2c9-e665c354b8e2"
   },
   "outputs": [
    {
     "name": "stdout",
     "output_type": "stream",
     "text": [
      "Results for Naive 10-fold CV with a Random Forest Classifier:\n",
      " {'err_hat': 0.068046509769449, 'ci_lo': 0.06653482137343318, 'ci_hi': 0.06955819816546481, 'sd': 0.2518256982074015}\n",
      "...0 rep completed!\n",
      "...0 bias rep completed!\n",
      "\n",
      "Results for Nested 10-fold CV with a Random Forest Classifier:\n",
      " {'sd_inf1': 1, 'err_hat': 0.06693676623305594, 'ci_lo': 0.06542128059978838, 'ci_hi': 0.0684522518663235, 'raw_mean': 0.0684159119161783, 'bias_est': 0.0014791456831223548, 'sd': 0.2524582637048271, 'running_sd_inf1': array([0.])}\n"
     ]
    }
   ],
   "source": [
    "naive_tenfoldcv_rf_result = naive_tenfoldcv(data_features_cols, clf1)\n",
    "print(\"Results for Naive 10-fold CV with a Random Forest Classifier:\\n {}\".format(naive_tenfoldcv_rf_result))\n",
    "\n",
    "nested_tenfoldcv_rf_result = nested_tenfoldcv(data_features_cols, clf1, reps=1, bias_reps=1)\n",
    "print(\"\\nResults for Nested 10-fold CV with a Random Forest Classifier:\\n {}\".format(nested_tenfoldcv_rf_result))"
   ]
  },
  {
   "cell_type": "code",
   "execution_count": null,
   "metadata": {
    "id": "yAw4REgtp9Of"
   },
   "outputs": [],
   "source": [
    "%load_ext rpy2.ipython"
   ]
  },
  {
   "cell_type": "code",
   "execution_count": null,
   "metadata": {
    "colab": {
     "base_uri": "https://localhost:8080/"
    },
    "id": "0_aE_XAZqOHa",
    "outputId": "322cd339-f68d-4aa7-edcc-5a7a8553cdf4"
   },
   "outputs": [
    {
     "name": "stdout",
     "output_type": "stream",
     "text": [
      "Collecting pymer4\n",
      "  Downloading pymer4-0.7.4.tar.gz (53 kB)\n",
      "\u001b[?25l\r",
      "\u001b[K     |██████▏                         | 10 kB 24.5 MB/s eta 0:00:01\r",
      "\u001b[K     |████████████▎                   | 20 kB 29.0 MB/s eta 0:00:01\r",
      "\u001b[K     |██████████████████▍             | 30 kB 12.6 MB/s eta 0:00:01\r",
      "\u001b[K     |████████████████████████▌       | 40 kB 9.4 MB/s eta 0:00:01\r",
      "\u001b[K     |██████████████████████████████▋ | 51 kB 5.2 MB/s eta 0:00:01\r",
      "\u001b[K     |████████████████████████████████| 53 kB 1.6 MB/s \n",
      "\u001b[?25hRequirement already satisfied: pandas<1.2,>=1.1.0 in /usr/local/lib/python3.7/dist-packages (from pymer4) (1.1.5)\n",
      "Requirement already satisfied: numpy>=1.16.0 in /usr/local/lib/python3.7/dist-packages (from pymer4) (1.19.5)\n",
      "Requirement already satisfied: rpy2>=3.3.2 in /usr/local/lib/python3.7/dist-packages (from pymer4) (3.4.5)\n",
      "Requirement already satisfied: seaborn>=0.10.0 in /usr/local/lib/python3.7/dist-packages (from pymer4) (0.11.1)\n",
      "Requirement already satisfied: matplotlib>=3.0 in /usr/local/lib/python3.7/dist-packages (from pymer4) (3.2.2)\n",
      "Requirement already satisfied: patsy>=0.5.1 in /usr/local/lib/python3.7/dist-packages (from pymer4) (0.5.1)\n",
      "Requirement already satisfied: joblib>=0.14 in /usr/local/lib/python3.7/dist-packages (from pymer4) (1.0.1)\n",
      "Requirement already satisfied: scipy>=1.4.0 in /usr/local/lib/python3.7/dist-packages (from pymer4) (1.4.1)\n",
      "Collecting deepdish>=0.3.6\n",
      "  Downloading deepdish-0.3.6-py2.py3-none-any.whl (36 kB)\n",
      "Requirement already satisfied: tables in /usr/local/lib/python3.7/dist-packages (from deepdish>=0.3.6->pymer4) (3.4.4)\n",
      "Requirement already satisfied: pyparsing!=2.0.4,!=2.1.2,!=2.1.6,>=2.0.1 in /usr/local/lib/python3.7/dist-packages (from matplotlib>=3.0->pymer4) (2.4.7)\n",
      "Requirement already satisfied: cycler>=0.10 in /usr/local/lib/python3.7/dist-packages (from matplotlib>=3.0->pymer4) (0.10.0)\n",
      "Requirement already satisfied: kiwisolver>=1.0.1 in /usr/local/lib/python3.7/dist-packages (from matplotlib>=3.0->pymer4) (1.3.1)\n",
      "Requirement already satisfied: python-dateutil>=2.1 in /usr/local/lib/python3.7/dist-packages (from matplotlib>=3.0->pymer4) (2.8.2)\n",
      "Requirement already satisfied: six in /usr/local/lib/python3.7/dist-packages (from cycler>=0.10->matplotlib>=3.0->pymer4) (1.15.0)\n",
      "Requirement already satisfied: pytz>=2017.2 in /usr/local/lib/python3.7/dist-packages (from pandas<1.2,>=1.1.0->pymer4) (2018.9)\n",
      "Requirement already satisfied: tzlocal in /usr/local/lib/python3.7/dist-packages (from rpy2>=3.3.2->pymer4) (1.5.1)\n",
      "Requirement already satisfied: cffi>=1.10.0 in /usr/local/lib/python3.7/dist-packages (from rpy2>=3.3.2->pymer4) (1.14.6)\n",
      "Requirement already satisfied: jinja2 in /usr/local/lib/python3.7/dist-packages (from rpy2>=3.3.2->pymer4) (2.11.3)\n",
      "Requirement already satisfied: pycparser in /usr/local/lib/python3.7/dist-packages (from cffi>=1.10.0->rpy2>=3.3.2->pymer4) (2.20)\n",
      "Requirement already satisfied: MarkupSafe>=0.23 in /usr/local/lib/python3.7/dist-packages (from jinja2->rpy2>=3.3.2->pymer4) (2.0.1)\n",
      "Requirement already satisfied: numexpr>=2.5.2 in /usr/local/lib/python3.7/dist-packages (from tables->deepdish>=0.3.6->pymer4) (2.7.3)\n",
      "Building wheels for collected packages: pymer4\n",
      "  Building wheel for pymer4 (setup.py) ... \u001b[?25l\u001b[?25hdone\n",
      "  Created wheel for pymer4: filename=pymer4-0.7.4-py2.py3-none-any.whl size=58113 sha256=b421c629f06883623e8f97f197035f552bd2bbcb8069c8b1e38e01467d7a2b49\n",
      "  Stored in directory: /root/.cache/pip/wheels/64/60/91/7e25b69b0a8cbd93ac4ef749764cb3f9edab88c1554a6b1867\n",
      "Successfully built pymer4\n",
      "Installing collected packages: deepdish, pymer4\n",
      "Successfully installed deepdish-0.3.6 pymer4-0.7.4\n"
     ]
    }
   ],
   "source": [
    "!pip install pymer4"
   ]
  },
  {
   "cell_type": "code",
   "execution_count": null,
   "metadata": {
    "id": "wlO3ZOYSqhMe"
   },
   "outputs": [],
   "source": [
    "%%R\n",
    "\n",
    "install.packages(\"lme4\")"
   ]
  },
  {
   "cell_type": "code",
   "execution_count": null,
   "metadata": {
    "colab": {
     "base_uri": "https://localhost:8080/",
     "height": 1000
    },
    "id": "9xZKnymP1r2n",
    "outputId": "598bf550-d464-4543-b375-e5904d54df13"
   },
   "outputs": [
    {
     "name": "stdout",
     "output_type": "stream",
     "text": [
      "Formula: Tremor~Col2+Col3+Col4+Col5+Col6+Col7+Col8+Col9+Col10+Col11+Col12+Col13+Col14+Col15+Col16+Col17+Col18+Col19+Col20+Col21+Col22+Col23+Col24+MedIntake+(1|ID)\n",
      "\n",
      "Family: binomial\t Inference: parametric\n",
      "\n",
      "Number of observations: 67572\t Groups: {'ID': 8.0}\n",
      "\n",
      "Log-likelihood: -16011.718 \t AIC: 32075.435\n",
      "\n",
      "Random effects:\n",
      "\n",
      "           Name    Var    Std\n",
      "ID  (Intercept)  1.556  1.248\n",
      "\n",
      "No random effect correlations specified\n",
      "\n",
      "Fixed effects:\n",
      "\n",
      "Formula: Tremor~Col2+Col3+Col4+Col5+Col6+Col7+Col8+Col9+Col10+Col11+Col12+Col13+Col14+Col15+Col16+Col17+Col18+Col19+Col20+Col21+Col22+Col23+Col24+MedIntake+(1|ID)\n",
      "\n",
      "Family: binomial\t Inference: parametric\n",
      "\n",
      "Number of observations: 67573\t Groups: {'ID': 8.0}\n",
      "\n",
      "Log-likelihood: -15982.314 \t AIC: 32016.628\n",
      "\n",
      "Random effects:\n",
      "\n",
      "           Name    Var    Std\n",
      "ID  (Intercept)  1.422  1.192\n",
      "\n",
      "No random effect correlations specified\n",
      "\n",
      "Fixed effects:\n",
      "\n",
      "Formula: Tremor~Col2+Col3+Col4+Col5+Col6+Col7+Col8+Col9+Col10+Col11+Col12+Col13+Col14+Col15+Col16+Col17+Col18+Col19+Col20+Col21+Col22+Col23+Col24+MedIntake+(1|ID)\n",
      "\n",
      "Family: binomial\t Inference: parametric\n",
      "\n",
      "Number of observations: 67573\t Groups: {'ID': 8.0}\n",
      "\n",
      "Log-likelihood: -16046.868 \t AIC: 32145.737\n",
      "\n",
      "Random effects:\n",
      "\n",
      "           Name   Var  Std\n",
      "ID  (Intercept)  1.44  1.2\n",
      "\n",
      "No random effect correlations specified\n",
      "\n",
      "Fixed effects:\n",
      "\n",
      "Formula: Tremor~Col2+Col3+Col4+Col5+Col6+Col7+Col8+Col9+Col10+Col11+Col12+Col13+Col14+Col15+Col16+Col17+Col18+Col19+Col20+Col21+Col22+Col23+Col24+MedIntake+(1|ID)\n",
      "\n",
      "Family: binomial\t Inference: parametric\n",
      "\n",
      "Number of observations: 67573\t Groups: {'ID': 8.0}\n",
      "\n",
      "Log-likelihood: -15926.012 \t AIC: 31904.025\n",
      "\n",
      "Random effects:\n",
      "\n",
      "           Name    Var    Std\n",
      "ID  (Intercept)  1.505  1.227\n",
      "\n",
      "No random effect correlations specified\n",
      "\n",
      "Fixed effects:\n",
      "\n",
      "Formula: Tremor~Col2+Col3+Col4+Col5+Col6+Col7+Col8+Col9+Col10+Col11+Col12+Col13+Col14+Col15+Col16+Col17+Col18+Col19+Col20+Col21+Col22+Col23+Col24+MedIntake+(1|ID)\n",
      "\n",
      "Family: binomial\t Inference: parametric\n",
      "\n",
      "Number of observations: 67573\t Groups: {'ID': 8.0}\n",
      "\n",
      "Log-likelihood: -16012.005 \t AIC: 32076.010\n",
      "\n",
      "Random effects:\n",
      "\n",
      "           Name    Var    Std\n",
      "ID  (Intercept)  1.458  1.208\n",
      "\n",
      "No random effect correlations specified\n",
      "\n",
      "Fixed effects:\n",
      "\n",
      "Formula: Tremor~Col2+Col3+Col4+Col5+Col6+Col7+Col8+Col9+Col10+Col11+Col12+Col13+Col14+Col15+Col16+Col17+Col18+Col19+Col20+Col21+Col22+Col23+Col24+MedIntake+(1|ID)\n",
      "\n",
      "Family: binomial\t Inference: parametric\n",
      "\n",
      "Number of observations: 67573\t Groups: {'ID': 8.0}\n",
      "\n",
      "Log-likelihood: -15951.759 \t AIC: 31955.517\n",
      "\n",
      "Random effects:\n",
      "\n",
      "           Name    Var    Std\n",
      "ID  (Intercept)  1.455  1.206\n",
      "\n",
      "No random effect correlations specified\n",
      "\n",
      "Fixed effects:\n",
      "\n",
      "Formula: Tremor~Col2+Col3+Col4+Col5+Col6+Col7+Col8+Col9+Col10+Col11+Col12+Col13+Col14+Col15+Col16+Col17+Col18+Col19+Col20+Col21+Col22+Col23+Col24+MedIntake+(1|ID)\n",
      "\n",
      "Family: binomial\t Inference: parametric\n",
      "\n",
      "Number of observations: 67573\t Groups: {'ID': 8.0}\n",
      "\n",
      "Log-likelihood: -16036.044 \t AIC: 32124.088\n",
      "\n",
      "Random effects:\n",
      "\n",
      "           Name    Var    Std\n",
      "ID  (Intercept)  1.516  1.231\n",
      "\n",
      "No random effect correlations specified\n",
      "\n",
      "Fixed effects:\n",
      "\n",
      "Formula: Tremor~Col2+Col3+Col4+Col5+Col6+Col7+Col8+Col9+Col10+Col11+Col12+Col13+Col14+Col15+Col16+Col17+Col18+Col19+Col20+Col21+Col22+Col23+Col24+MedIntake+(1|ID)\n",
      "\n",
      "Family: binomial\t Inference: parametric\n",
      "\n",
      "Number of observations: 67573\t Groups: {'ID': 8.0}\n",
      "\n",
      "Log-likelihood: -15955.296 \t AIC: 31962.591\n",
      "\n",
      "Random effects:\n",
      "\n",
      "           Name    Var    Std\n",
      "ID  (Intercept)  1.471  1.213\n",
      "\n",
      "No random effect correlations specified\n",
      "\n",
      "Fixed effects:\n",
      "\n",
      "Formula: Tremor~Col2+Col3+Col4+Col5+Col6+Col7+Col8+Col9+Col10+Col11+Col12+Col13+Col14+Col15+Col16+Col17+Col18+Col19+Col20+Col21+Col22+Col23+Col24+MedIntake+(1|ID)\n",
      "\n",
      "Family: binomial\t Inference: parametric\n",
      "\n",
      "Number of observations: 67573\t Groups: {'ID': 8.0}\n",
      "\n",
      "Log-likelihood: -15937.410 \t AIC: 31926.820\n",
      "\n",
      "Random effects:\n",
      "\n",
      "           Name    Var    Std\n",
      "ID  (Intercept)  1.496  1.223\n",
      "\n",
      "No random effect correlations specified\n",
      "\n",
      "Fixed effects:\n",
      "\n",
      "Formula: Tremor~Col2+Col3+Col4+Col5+Col6+Col7+Col8+Col9+Col10+Col11+Col12+Col13+Col14+Col15+Col16+Col17+Col18+Col19+Col20+Col21+Col22+Col23+Col24+MedIntake+(1|ID)\n",
      "\n",
      "Family: binomial\t Inference: parametric\n",
      "\n",
      "Number of observations: 67573\t Groups: {'ID': 8.0}\n",
      "\n",
      "Log-likelihood: -16010.341 \t AIC: 32072.682\n",
      "\n",
      "Random effects:\n",
      "\n",
      "           Name    Var    Std\n",
      "ID  (Intercept)  1.509  1.229\n",
      "\n",
      "No random effect correlations specified\n",
      "\n",
      "Fixed effects:\n",
      "\n",
      "Results for Naive 10-fold CV with a Linear Mixed Effects Classifier:\n",
      " {'err_hat': 0.13395544053973146, 'ci_lo': 0.1325376835287398, 'ci_hi': 0.13537319755072313, 'sd': 0.23617807090561346}\n"
     ]
    },
    {
     "ename": "TypeError",
     "evalue": "ignored",
     "output_type": "error",
     "traceback": [
      "\u001b[0;31m---------------------------------------------------------------------------\u001b[0m",
      "\u001b[0;31mTypeError\u001b[0m                                 Traceback (most recent call last)",
      "\u001b[0;32m<ipython-input-19-5f351d80df31>\u001b[0m in \u001b[0;36m<module>\u001b[0;34m()\u001b[0m\n\u001b[1;32m      9\u001b[0m \u001b[0mprint\u001b[0m\u001b[0;34m(\u001b[0m\u001b[0;34m\"Results for Naive 10-fold CV with a Linear Mixed Effects Classifier:\\n {}\"\u001b[0m\u001b[0;34m.\u001b[0m\u001b[0mformat\u001b[0m\u001b[0;34m(\u001b[0m\u001b[0mnaive_tenfoldcv_me_result\u001b[0m\u001b[0;34m)\u001b[0m\u001b[0;34m)\u001b[0m\u001b[0;34m\u001b[0m\u001b[0;34m\u001b[0m\u001b[0m\n\u001b[1;32m     10\u001b[0m \u001b[0;34m\u001b[0m\u001b[0m\n\u001b[0;32m---> 11\u001b[0;31m \u001b[0mnested_tenfoldcv_me_result\u001b[0m \u001b[0;34m=\u001b[0m \u001b[0mnested_tenfoldcv\u001b[0m\u001b[0;34m(\u001b[0m\u001b[0mdata_features_me\u001b[0m\u001b[0;34m,\u001b[0m \u001b[0mmixed_effects\u001b[0m\u001b[0;34m=\u001b[0m\u001b[0;32mTrue\u001b[0m\u001b[0;34m,\u001b[0m \u001b[0mreps\u001b[0m\u001b[0;34m=\u001b[0m\u001b[0;36m1\u001b[0m\u001b[0;34m,\u001b[0m \u001b[0mbias_reps\u001b[0m\u001b[0;34m=\u001b[0m\u001b[0;36m1\u001b[0m\u001b[0;34m)\u001b[0m\u001b[0;34m\u001b[0m\u001b[0;34m\u001b[0m\u001b[0m\n\u001b[0m\u001b[1;32m     12\u001b[0m \u001b[0mprint\u001b[0m\u001b[0;34m(\u001b[0m\u001b[0;34m\"\\nResults for Nested 10-fold CV with a Linear Mixed Effects Classifier:\\n {}\"\u001b[0m\u001b[0;34m.\u001b[0m\u001b[0mformat\u001b[0m\u001b[0;34m(\u001b[0m\u001b[0mnested_tenfoldcv_me_result\u001b[0m\u001b[0;34m)\u001b[0m\u001b[0;34m)\u001b[0m\u001b[0;34m\u001b[0m\u001b[0;34m\u001b[0m\u001b[0m\n",
      "\u001b[0;31mTypeError\u001b[0m: nested_tenfoldcv() missing 1 required positional argument: 'algo'"
     ]
    }
   ],
   "source": [
    "from pymer4.models import Lmer\n",
    "\n",
    "formula = \"Tremor ~ Col2+Col3+Col4+Col5+Col6+Col7+Col8+Col9+Col10+Col11+Col12+Col13+Col14+Col15+Col16+Col17+Col18+Col19+Col20+Col21+Col22+Col23+Col24+MedIntake+(1|ID)\"\n",
    "\n",
    "#model doesn't work with variable names including special characters\n",
    "data_features_me = data_features.rename(columns={outcomevar: \"Tremor\", \"Medication_Intake\": \"MedIntake\"})\n",
    "\n",
    "naive_tenfoldcv_me_result = naive_tenfoldcv(data_features_me, mixed_effects=True)\n",
    "print(\"Results for Naive 10-fold CV with a Linear Mixed Effects Classifier:\\n {}\".format(naive_tenfoldcv_me_result))\n",
    "\n",
    "nested_tenfoldcv_me_result = nested_tenfoldcv(data_features_me, mixed_effects=True, reps=1, bias_reps=1)\n",
    "print(\"\\nResults for Nested 10-fold CV with a Linear Mixed Effects Classifier:\\n {}\".format(nested_tenfoldcv_me_result))"
   ]
  },
  {
   "cell_type": "code",
   "execution_count": null,
   "metadata": {
    "colab": {
     "base_uri": "https://localhost:8080/",
     "height": 1000
    },
    "id": "f0ZRKTIlJTIY",
    "outputId": "659f9fe8-dd4c-4d91-c7b6-e183face7f65"
   },
   "outputs": [
    {
     "ename": "ValueError",
     "evalue": "ignored",
     "output_type": "error",
     "traceback": [
      "\u001b[0;31m---------------------------------------------------------------------------\u001b[0m",
      "\u001b[0;31mValueError\u001b[0m                                Traceback (most recent call last)",
      "\u001b[0;32m/usr/local/lib/python3.7/dist-packages/pandas/core/internals/managers.py\u001b[0m in \u001b[0;36mcreate_block_manager_from_blocks\u001b[0;34m(blocks, axes)\u001b[0m\n\u001b[1;32m   1673\u001b[0m \u001b[0;34m\u001b[0m\u001b[0m\n\u001b[0;32m-> 1674\u001b[0;31m         \u001b[0mmgr\u001b[0m \u001b[0;34m=\u001b[0m \u001b[0mBlockManager\u001b[0m\u001b[0;34m(\u001b[0m\u001b[0mblocks\u001b[0m\u001b[0;34m,\u001b[0m \u001b[0maxes\u001b[0m\u001b[0;34m)\u001b[0m\u001b[0;34m\u001b[0m\u001b[0;34m\u001b[0m\u001b[0m\n\u001b[0m\u001b[1;32m   1675\u001b[0m         \u001b[0mmgr\u001b[0m\u001b[0;34m.\u001b[0m\u001b[0m_consolidate_inplace\u001b[0m\u001b[0;34m(\u001b[0m\u001b[0;34m)\u001b[0m\u001b[0;34m\u001b[0m\u001b[0;34m\u001b[0m\u001b[0m\n",
      "\u001b[0;32m/usr/local/lib/python3.7/dist-packages/pandas/core/internals/managers.py\u001b[0m in \u001b[0;36m__init__\u001b[0;34m(self, blocks, axes, do_integrity_check)\u001b[0m\n\u001b[1;32m    148\u001b[0m         \u001b[0;32mif\u001b[0m \u001b[0mdo_integrity_check\u001b[0m\u001b[0;34m:\u001b[0m\u001b[0;34m\u001b[0m\u001b[0;34m\u001b[0m\u001b[0m\n\u001b[0;32m--> 149\u001b[0;31m             \u001b[0mself\u001b[0m\u001b[0;34m.\u001b[0m\u001b[0m_verify_integrity\u001b[0m\u001b[0;34m(\u001b[0m\u001b[0;34m)\u001b[0m\u001b[0;34m\u001b[0m\u001b[0;34m\u001b[0m\u001b[0m\n\u001b[0m\u001b[1;32m    150\u001b[0m \u001b[0;34m\u001b[0m\u001b[0m\n",
      "\u001b[0;32m/usr/local/lib/python3.7/dist-packages/pandas/core/internals/managers.py\u001b[0m in \u001b[0;36m_verify_integrity\u001b[0;34m(self)\u001b[0m\n\u001b[1;32m    328\u001b[0m             \u001b[0;32mif\u001b[0m \u001b[0mblock\u001b[0m\u001b[0;34m.\u001b[0m\u001b[0mshape\u001b[0m\u001b[0;34m[\u001b[0m\u001b[0;36m1\u001b[0m\u001b[0;34m:\u001b[0m\u001b[0;34m]\u001b[0m \u001b[0;34m!=\u001b[0m \u001b[0mmgr_shape\u001b[0m\u001b[0;34m[\u001b[0m\u001b[0;36m1\u001b[0m\u001b[0;34m:\u001b[0m\u001b[0;34m]\u001b[0m\u001b[0;34m:\u001b[0m\u001b[0;34m\u001b[0m\u001b[0;34m\u001b[0m\u001b[0m\n\u001b[0;32m--> 329\u001b[0;31m                 \u001b[0;32mraise\u001b[0m \u001b[0mconstruction_error\u001b[0m\u001b[0;34m(\u001b[0m\u001b[0mtot_items\u001b[0m\u001b[0;34m,\u001b[0m \u001b[0mblock\u001b[0m\u001b[0;34m.\u001b[0m\u001b[0mshape\u001b[0m\u001b[0;34m[\u001b[0m\u001b[0;36m1\u001b[0m\u001b[0;34m:\u001b[0m\u001b[0;34m]\u001b[0m\u001b[0;34m,\u001b[0m \u001b[0mself\u001b[0m\u001b[0;34m.\u001b[0m\u001b[0maxes\u001b[0m\u001b[0;34m)\u001b[0m\u001b[0;34m\u001b[0m\u001b[0;34m\u001b[0m\u001b[0m\n\u001b[0m\u001b[1;32m    330\u001b[0m         \u001b[0;32mif\u001b[0m \u001b[0mlen\u001b[0m\u001b[0;34m(\u001b[0m\u001b[0mself\u001b[0m\u001b[0;34m.\u001b[0m\u001b[0mitems\u001b[0m\u001b[0;34m)\u001b[0m \u001b[0;34m!=\u001b[0m \u001b[0mtot_items\u001b[0m\u001b[0;34m:\u001b[0m\u001b[0;34m\u001b[0m\u001b[0;34m\u001b[0m\u001b[0m\n",
      "\u001b[0;31mValueError\u001b[0m: Shape of passed values is (60065, 27), indices imply (75081, 27)",
      "\nDuring handling of the above exception, another exception occurred:\n",
      "\u001b[0;31mValueError\u001b[0m                                Traceback (most recent call last)",
      "\u001b[0;32m<ipython-input-22-759308955185>\u001b[0m in \u001b[0;36m<module>\u001b[0;34m()\u001b[0m\n\u001b[0;32m----> 1\u001b[0;31m \u001b[0mnested_tenfoldcv_me_result\u001b[0m \u001b[0;34m=\u001b[0m \u001b[0mnested_tenfoldcv\u001b[0m\u001b[0;34m(\u001b[0m\u001b[0mdata_features_me\u001b[0m\u001b[0;34m,\u001b[0m \u001b[0mmixed_effects\u001b[0m\u001b[0;34m=\u001b[0m\u001b[0;32mTrue\u001b[0m\u001b[0;34m,\u001b[0m \u001b[0mreps\u001b[0m\u001b[0;34m=\u001b[0m\u001b[0;36m1\u001b[0m\u001b[0;34m,\u001b[0m \u001b[0mbias_reps\u001b[0m\u001b[0;34m=\u001b[0m\u001b[0;36m1\u001b[0m\u001b[0;34m)\u001b[0m\u001b[0;34m\u001b[0m\u001b[0;34m\u001b[0m\u001b[0m\n\u001b[0m\u001b[1;32m      2\u001b[0m \u001b[0mprint\u001b[0m\u001b[0;34m(\u001b[0m\u001b[0;34m\"\\nResults for Nested 10-fold CV with a Linear Mixed Effects Classifier:\\n {}\"\u001b[0m\u001b[0;34m.\u001b[0m\u001b[0mformat\u001b[0m\u001b[0;34m(\u001b[0m\u001b[0mnested_tenfoldcv_me_result\u001b[0m\u001b[0;34m)\u001b[0m\u001b[0;34m)\u001b[0m\u001b[0;34m\u001b[0m\u001b[0;34m\u001b[0m\u001b[0m\n",
      "\u001b[0;32m<ipython-input-21-e6373af9a146>\u001b[0m in \u001b[0;36mnested_tenfoldcv\u001b[0;34m(data, algo, reps, alpha, bias_reps, time, mixed_effects)\u001b[0m\n\u001b[1;32m     34\u001b[0m   \u001b[0mho_errs\u001b[0m \u001b[0;34m=\u001b[0m \u001b[0mnp\u001b[0m\u001b[0;34m.\u001b[0m\u001b[0marray\u001b[0m\u001b[0;34m(\u001b[0m\u001b[0;34m[\u001b[0m\u001b[0;34m]\u001b[0m\u001b[0;34m)\u001b[0m\u001b[0;34m\u001b[0m\u001b[0;34m\u001b[0m\u001b[0m\n\u001b[1;32m     35\u001b[0m   \u001b[0;32mfor\u001b[0m \u001b[0mi\u001b[0m \u001b[0;32min\u001b[0m \u001b[0mrange\u001b[0m\u001b[0;34m(\u001b[0m\u001b[0mreps\u001b[0m\u001b[0;34m)\u001b[0m\u001b[0;34m:\u001b[0m\u001b[0;34m\u001b[0m\u001b[0;34m\u001b[0m\u001b[0m\n\u001b[0;32m---> 36\u001b[0;31m     \u001b[0mvar_pivots\u001b[0m\u001b[0;34m[\u001b[0m\u001b[0;36m10\u001b[0m\u001b[0;34m*\u001b[0m\u001b[0mi\u001b[0m\u001b[0;34m:\u001b[0m\u001b[0;36m10\u001b[0m\u001b[0;34m*\u001b[0m\u001b[0;34m(\u001b[0m\u001b[0mi\u001b[0m\u001b[0;34m+\u001b[0m\u001b[0;36m1\u001b[0m\u001b[0;34m)\u001b[0m\u001b[0;34m]\u001b[0m \u001b[0;34m=\u001b[0m \u001b[0mnested_tenfoldcv_helper\u001b[0m\u001b[0;34m(\u001b[0m\u001b[0mdata\u001b[0m\u001b[0;34m,\u001b[0m \u001b[0malgo\u001b[0m\u001b[0;34m,\u001b[0m \u001b[0mmixed_effects\u001b[0m\u001b[0;34m)\u001b[0m\u001b[0;34m[\u001b[0m\u001b[0;34m\"pivots\"\u001b[0m\u001b[0;34m]\u001b[0m\u001b[0;34m\u001b[0m\u001b[0;34m\u001b[0m\u001b[0m\n\u001b[0m\u001b[1;32m     37\u001b[0m     \u001b[0mho_errs\u001b[0m \u001b[0;34m=\u001b[0m \u001b[0mnp\u001b[0m\u001b[0;34m.\u001b[0m\u001b[0mconcatenate\u001b[0m\u001b[0;34m(\u001b[0m\u001b[0;34m(\u001b[0m\u001b[0mho_errs\u001b[0m\u001b[0;34m,\u001b[0m \u001b[0mnested_tenfoldcv_helper\u001b[0m\u001b[0;34m(\u001b[0m\u001b[0mdata\u001b[0m\u001b[0;34m,\u001b[0m \u001b[0malgo\u001b[0m\u001b[0;34m)\u001b[0m\u001b[0;34m[\u001b[0m\u001b[0;34m\"errs\"\u001b[0m\u001b[0;34m]\u001b[0m\u001b[0;34m)\u001b[0m\u001b[0;34m)\u001b[0m\u001b[0;34m\u001b[0m\u001b[0;34m\u001b[0m\u001b[0m\n\u001b[1;32m     38\u001b[0m     \u001b[0mprint\u001b[0m\u001b[0;34m(\u001b[0m\u001b[0;34m\"...{} rep completed!\"\u001b[0m\u001b[0;34m.\u001b[0m\u001b[0mformat\u001b[0m\u001b[0;34m(\u001b[0m\u001b[0mi\u001b[0m\u001b[0;34m)\u001b[0m\u001b[0;34m)\u001b[0m\u001b[0;34m\u001b[0m\u001b[0;34m\u001b[0m\u001b[0m\n",
      "\u001b[0;32m<ipython-input-20-ef208eaa2b32>\u001b[0m in \u001b[0;36mnested_tenfoldcv_helper\u001b[0;34m(data, algo, mixed_effects)\u001b[0m\n\u001b[1;32m     25\u001b[0m       \u001b[0mtest_idx\u001b[0m \u001b[0;34m=\u001b[0m \u001b[0mnp\u001b[0m\u001b[0;34m.\u001b[0m\u001b[0mappend\u001b[0m\u001b[0;34m(\u001b[0m\u001b[0mnp\u001b[0m\u001b[0;34m.\u001b[0m\u001b[0mwhere\u001b[0m\u001b[0;34m(\u001b[0m\u001b[0mfold_id\u001b[0m \u001b[0;34m==\u001b[0m \u001b[0mf1\u001b[0m\u001b[0;34m)\u001b[0m\u001b[0;34m,\u001b[0m \u001b[0mnp\u001b[0m\u001b[0;34m.\u001b[0m\u001b[0mwhere\u001b[0m\u001b[0;34m(\u001b[0m\u001b[0mfold_id\u001b[0m \u001b[0;34m==\u001b[0m \u001b[0mf2\u001b[0m\u001b[0;34m)\u001b[0m\u001b[0;34m)\u001b[0m\u001b[0;34m\u001b[0m\u001b[0;34m\u001b[0m\u001b[0m\n\u001b[1;32m     26\u001b[0m       \u001b[0;32mif\u001b[0m \u001b[0mmixed_effects\u001b[0m\u001b[0;34m:\u001b[0m\u001b[0;34m\u001b[0m\u001b[0;34m\u001b[0m\u001b[0m\n\u001b[0;32m---> 27\u001b[0;31m         \u001b[0mmd\u001b[0m \u001b[0;34m=\u001b[0m \u001b[0mLmer\u001b[0m\u001b[0;34m(\u001b[0m\u001b[0mformula\u001b[0m\u001b[0;34m=\u001b[0m\u001b[0mformula\u001b[0m\u001b[0;34m,\u001b[0m \u001b[0mdata\u001b[0m\u001b[0;34m=\u001b[0m\u001b[0mnp\u001b[0m\u001b[0;34m.\u001b[0m\u001b[0mdelete\u001b[0m\u001b[0;34m(\u001b[0m\u001b[0mdata\u001b[0m\u001b[0;34m,\u001b[0m \u001b[0mtest_idx\u001b[0m\u001b[0;34m,\u001b[0m \u001b[0;36m0\u001b[0m\u001b[0;34m)\u001b[0m\u001b[0;34m,\u001b[0m \u001b[0mfamily\u001b[0m\u001b[0;34m=\u001b[0m\u001b[0;34m'binomial'\u001b[0m\u001b[0;34m)\u001b[0m\u001b[0;34m\u001b[0m\u001b[0;34m\u001b[0m\u001b[0m\n\u001b[0m\u001b[1;32m     28\u001b[0m         \u001b[0mmd\u001b[0m\u001b[0;34m.\u001b[0m\u001b[0mfit\u001b[0m\u001b[0;34m(\u001b[0m\u001b[0;34m)\u001b[0m\u001b[0;34m\u001b[0m\u001b[0;34m\u001b[0m\u001b[0m\n\u001b[1;32m     29\u001b[0m         \u001b[0mpreds\u001b[0m \u001b[0;34m=\u001b[0m \u001b[0mmd\u001b[0m\u001b[0;34m.\u001b[0m\u001b[0mpredict\u001b[0m\u001b[0;34m(\u001b[0m\u001b[0mdata\u001b[0m\u001b[0;34m)\u001b[0m\u001b[0;34m\u001b[0m\u001b[0;34m\u001b[0m\u001b[0m\n",
      "\u001b[0;32m<__array_function__ internals>\u001b[0m in \u001b[0;36mdelete\u001b[0;34m(*args, **kwargs)\u001b[0m\n",
      "\u001b[0;32m/usr/local/lib/python3.7/dist-packages/numpy/lib/function_base.py\u001b[0m in \u001b[0;36mdelete\u001b[0;34m(arr, obj, axis)\u001b[0m\n\u001b[1;32m   4410\u001b[0m \u001b[0;34m\u001b[0m\u001b[0m\n\u001b[1;32m   4411\u001b[0m     \u001b[0;32mif\u001b[0m \u001b[0mwrap\u001b[0m\u001b[0;34m:\u001b[0m\u001b[0;34m\u001b[0m\u001b[0;34m\u001b[0m\u001b[0m\n\u001b[0;32m-> 4412\u001b[0;31m         \u001b[0;32mreturn\u001b[0m \u001b[0mwrap\u001b[0m\u001b[0;34m(\u001b[0m\u001b[0mnew\u001b[0m\u001b[0;34m)\u001b[0m\u001b[0;34m\u001b[0m\u001b[0;34m\u001b[0m\u001b[0m\n\u001b[0m\u001b[1;32m   4413\u001b[0m     \u001b[0;32melse\u001b[0m\u001b[0;34m:\u001b[0m\u001b[0;34m\u001b[0m\u001b[0;34m\u001b[0m\u001b[0m\n\u001b[1;32m   4414\u001b[0m         \u001b[0;32mreturn\u001b[0m \u001b[0mnew\u001b[0m\u001b[0;34m\u001b[0m\u001b[0;34m\u001b[0m\u001b[0m\n",
      "\u001b[0;32m/usr/local/lib/python3.7/dist-packages/pandas/core/generic.py\u001b[0m in \u001b[0;36m__array_wrap__\u001b[0;34m(self, result, context)\u001b[0m\n\u001b[1;32m   1788\u001b[0m             \u001b[0;32mreturn\u001b[0m \u001b[0mresult\u001b[0m\u001b[0;34m\u001b[0m\u001b[0;34m\u001b[0m\u001b[0m\n\u001b[1;32m   1789\u001b[0m         \u001b[0md\u001b[0m \u001b[0;34m=\u001b[0m \u001b[0mself\u001b[0m\u001b[0;34m.\u001b[0m\u001b[0m_construct_axes_dict\u001b[0m\u001b[0;34m(\u001b[0m\u001b[0mself\u001b[0m\u001b[0;34m.\u001b[0m\u001b[0m_AXIS_ORDERS\u001b[0m\u001b[0;34m,\u001b[0m \u001b[0mcopy\u001b[0m\u001b[0;34m=\u001b[0m\u001b[0;32mFalse\u001b[0m\u001b[0;34m)\u001b[0m\u001b[0;34m\u001b[0m\u001b[0;34m\u001b[0m\u001b[0m\n\u001b[0;32m-> 1790\u001b[0;31m         return self._constructor(result, **d).__finalize__(\n\u001b[0m\u001b[1;32m   1791\u001b[0m             \u001b[0mself\u001b[0m\u001b[0;34m,\u001b[0m \u001b[0mmethod\u001b[0m\u001b[0;34m=\u001b[0m\u001b[0;34m\"__array_wrap__\"\u001b[0m\u001b[0;34m\u001b[0m\u001b[0;34m\u001b[0m\u001b[0m\n\u001b[1;32m   1792\u001b[0m         )\n",
      "\u001b[0;32m/usr/local/lib/python3.7/dist-packages/pandas/core/frame.py\u001b[0m in \u001b[0;36m__init__\u001b[0;34m(self, data, index, columns, dtype, copy)\u001b[0m\n\u001b[1;32m    495\u001b[0m                 \u001b[0mmgr\u001b[0m \u001b[0;34m=\u001b[0m \u001b[0minit_dict\u001b[0m\u001b[0;34m(\u001b[0m\u001b[0;34m{\u001b[0m\u001b[0mdata\u001b[0m\u001b[0;34m.\u001b[0m\u001b[0mname\u001b[0m\u001b[0;34m:\u001b[0m \u001b[0mdata\u001b[0m\u001b[0;34m}\u001b[0m\u001b[0;34m,\u001b[0m \u001b[0mindex\u001b[0m\u001b[0;34m,\u001b[0m \u001b[0mcolumns\u001b[0m\u001b[0;34m,\u001b[0m \u001b[0mdtype\u001b[0m\u001b[0;34m=\u001b[0m\u001b[0mdtype\u001b[0m\u001b[0;34m)\u001b[0m\u001b[0;34m\u001b[0m\u001b[0;34m\u001b[0m\u001b[0m\n\u001b[1;32m    496\u001b[0m             \u001b[0;32melse\u001b[0m\u001b[0;34m:\u001b[0m\u001b[0;34m\u001b[0m\u001b[0;34m\u001b[0m\u001b[0m\n\u001b[0;32m--> 497\u001b[0;31m                 \u001b[0mmgr\u001b[0m \u001b[0;34m=\u001b[0m \u001b[0minit_ndarray\u001b[0m\u001b[0;34m(\u001b[0m\u001b[0mdata\u001b[0m\u001b[0;34m,\u001b[0m \u001b[0mindex\u001b[0m\u001b[0;34m,\u001b[0m \u001b[0mcolumns\u001b[0m\u001b[0;34m,\u001b[0m \u001b[0mdtype\u001b[0m\u001b[0;34m=\u001b[0m\u001b[0mdtype\u001b[0m\u001b[0;34m,\u001b[0m \u001b[0mcopy\u001b[0m\u001b[0;34m=\u001b[0m\u001b[0mcopy\u001b[0m\u001b[0;34m)\u001b[0m\u001b[0;34m\u001b[0m\u001b[0;34m\u001b[0m\u001b[0m\n\u001b[0m\u001b[1;32m    498\u001b[0m \u001b[0;34m\u001b[0m\u001b[0m\n\u001b[1;32m    499\u001b[0m         \u001b[0;31m# For data is list-like, or Iterable (will consume into list)\u001b[0m\u001b[0;34m\u001b[0m\u001b[0;34m\u001b[0m\u001b[0;34m\u001b[0m\u001b[0m\n",
      "\u001b[0;32m/usr/local/lib/python3.7/dist-packages/pandas/core/internals/construction.py\u001b[0m in \u001b[0;36minit_ndarray\u001b[0;34m(values, index, columns, dtype, copy)\u001b[0m\n\u001b[1;32m    232\u001b[0m         \u001b[0mblock_values\u001b[0m \u001b[0;34m=\u001b[0m \u001b[0;34m[\u001b[0m\u001b[0mvalues\u001b[0m\u001b[0;34m]\u001b[0m\u001b[0;34m\u001b[0m\u001b[0;34m\u001b[0m\u001b[0m\n\u001b[1;32m    233\u001b[0m \u001b[0;34m\u001b[0m\u001b[0m\n\u001b[0;32m--> 234\u001b[0;31m     \u001b[0;32mreturn\u001b[0m \u001b[0mcreate_block_manager_from_blocks\u001b[0m\u001b[0;34m(\u001b[0m\u001b[0mblock_values\u001b[0m\u001b[0;34m,\u001b[0m \u001b[0;34m[\u001b[0m\u001b[0mcolumns\u001b[0m\u001b[0;34m,\u001b[0m \u001b[0mindex\u001b[0m\u001b[0;34m]\u001b[0m\u001b[0;34m)\u001b[0m\u001b[0;34m\u001b[0m\u001b[0;34m\u001b[0m\u001b[0m\n\u001b[0m\u001b[1;32m    235\u001b[0m \u001b[0;34m\u001b[0m\u001b[0m\n\u001b[1;32m    236\u001b[0m \u001b[0;34m\u001b[0m\u001b[0m\n",
      "\u001b[0;32m/usr/local/lib/python3.7/dist-packages/pandas/core/internals/managers.py\u001b[0m in \u001b[0;36mcreate_block_manager_from_blocks\u001b[0;34m(blocks, axes)\u001b[0m\n\u001b[1;32m   1679\u001b[0m         \u001b[0mblocks\u001b[0m \u001b[0;34m=\u001b[0m \u001b[0;34m[\u001b[0m\u001b[0mgetattr\u001b[0m\u001b[0;34m(\u001b[0m\u001b[0mb\u001b[0m\u001b[0;34m,\u001b[0m \u001b[0;34m\"values\"\u001b[0m\u001b[0;34m,\u001b[0m \u001b[0mb\u001b[0m\u001b[0;34m)\u001b[0m \u001b[0;32mfor\u001b[0m \u001b[0mb\u001b[0m \u001b[0;32min\u001b[0m \u001b[0mblocks\u001b[0m\u001b[0;34m]\u001b[0m\u001b[0;34m\u001b[0m\u001b[0;34m\u001b[0m\u001b[0m\n\u001b[1;32m   1680\u001b[0m         \u001b[0mtot_items\u001b[0m \u001b[0;34m=\u001b[0m \u001b[0msum\u001b[0m\u001b[0;34m(\u001b[0m\u001b[0mb\u001b[0m\u001b[0;34m.\u001b[0m\u001b[0mshape\u001b[0m\u001b[0;34m[\u001b[0m\u001b[0;36m0\u001b[0m\u001b[0;34m]\u001b[0m \u001b[0;32mfor\u001b[0m \u001b[0mb\u001b[0m \u001b[0;32min\u001b[0m \u001b[0mblocks\u001b[0m\u001b[0;34m)\u001b[0m\u001b[0;34m\u001b[0m\u001b[0;34m\u001b[0m\u001b[0m\n\u001b[0;32m-> 1681\u001b[0;31m         \u001b[0;32mraise\u001b[0m \u001b[0mconstruction_error\u001b[0m\u001b[0;34m(\u001b[0m\u001b[0mtot_items\u001b[0m\u001b[0;34m,\u001b[0m \u001b[0mblocks\u001b[0m\u001b[0;34m[\u001b[0m\u001b[0;36m0\u001b[0m\u001b[0;34m]\u001b[0m\u001b[0;34m.\u001b[0m\u001b[0mshape\u001b[0m\u001b[0;34m[\u001b[0m\u001b[0;36m1\u001b[0m\u001b[0;34m:\u001b[0m\u001b[0;34m]\u001b[0m\u001b[0;34m,\u001b[0m \u001b[0maxes\u001b[0m\u001b[0;34m,\u001b[0m \u001b[0me\u001b[0m\u001b[0;34m)\u001b[0m\u001b[0;34m\u001b[0m\u001b[0;34m\u001b[0m\u001b[0m\n\u001b[0m\u001b[1;32m   1682\u001b[0m \u001b[0;34m\u001b[0m\u001b[0m\n\u001b[1;32m   1683\u001b[0m \u001b[0;34m\u001b[0m\u001b[0m\n",
      "\u001b[0;31mValueError\u001b[0m: Shape of passed values is (60065, 27), indices imply (75081, 27)"
     ]
    }
   ],
   "source": [
    "nested_tenfoldcv_me_result = nested_tenfoldcv(data_features_me, mixed_effects=True, reps=1, bias_reps=1)\n",
    "print(\"\\nResults for Nested 10-fold CV with a Linear Mixed Effects Classifier:\\n {}\".format(nested_tenfoldcv_me_result))"
   ]
  },
  {
   "cell_type": "code",
   "execution_count": null,
   "metadata": {
    "colab": {
     "base_uri": "https://localhost:8080/",
     "height": 224
    },
    "id": "Nn3O_zprQBco",
    "outputId": "2332a9cb-664f-44a9-b0b2-33938e414d3c"
   },
   "outputs": [
    {
     "data": {
      "text/html": [
       "<div>\n",
       "<style scoped>\n",
       "    .dataframe tbody tr th:only-of-type {\n",
       "        vertical-align: middle;\n",
       "    }\n",
       "\n",
       "    .dataframe tbody tr th {\n",
       "        vertical-align: top;\n",
       "    }\n",
       "\n",
       "    .dataframe thead th {\n",
       "        text-align: right;\n",
       "    }\n",
       "</style>\n",
       "<table border=\"1\" class=\"dataframe\">\n",
       "  <thead>\n",
       "    <tr style=\"text-align: right;\">\n",
       "      <th></th>\n",
       "      <th>ID</th>\n",
       "      <th>Col2</th>\n",
       "      <th>Col3</th>\n",
       "      <th>Col4</th>\n",
       "      <th>Col5</th>\n",
       "      <th>Col6</th>\n",
       "      <th>Col7</th>\n",
       "      <th>Col8</th>\n",
       "      <th>Col9</th>\n",
       "      <th>Col10</th>\n",
       "      <th>Col11</th>\n",
       "      <th>Col12</th>\n",
       "      <th>Col13</th>\n",
       "      <th>Col14</th>\n",
       "      <th>Col15</th>\n",
       "      <th>Col16</th>\n",
       "      <th>Col17</th>\n",
       "      <th>Col18</th>\n",
       "      <th>Col19</th>\n",
       "      <th>Col20</th>\n",
       "      <th>Col21</th>\n",
       "      <th>Col22</th>\n",
       "      <th>Col23</th>\n",
       "      <th>Col24</th>\n",
       "      <th>Medication_Intake</th>\n",
       "      <th>Prototype_ID</th>\n",
       "      <th>Tremor</th>\n",
       "    </tr>\n",
       "  </thead>\n",
       "  <tbody>\n",
       "    <tr>\n",
       "      <th>0</th>\n",
       "      <td>1.0</td>\n",
       "      <td>-1.944040</td>\n",
       "      <td>1.131356</td>\n",
       "      <td>1.277944</td>\n",
       "      <td>0.279097</td>\n",
       "      <td>0.341611</td>\n",
       "      <td>0.571910</td>\n",
       "      <td>0.144659</td>\n",
       "      <td>0.278485</td>\n",
       "      <td>-0.987035</td>\n",
       "      <td>0.260292</td>\n",
       "      <td>-0.033208</td>\n",
       "      <td>-0.012584</td>\n",
       "      <td>-0.169077</td>\n",
       "      <td>0.529298</td>\n",
       "      <td>-0.113515</td>\n",
       "      <td>0.269152</td>\n",
       "      <td>-0.160174</td>\n",
       "      <td>0.400771</td>\n",
       "      <td>0.440493</td>\n",
       "      <td>0.435165</td>\n",
       "      <td>-0.248497</td>\n",
       "      <td>-0.117822</td>\n",
       "      <td>0.076309</td>\n",
       "      <td>1.0</td>\n",
       "      <td>1.0</td>\n",
       "      <td>0.0</td>\n",
       "    </tr>\n",
       "    <tr>\n",
       "      <th>1</th>\n",
       "      <td>1.0</td>\n",
       "      <td>-2.034009</td>\n",
       "      <td>1.090760</td>\n",
       "      <td>1.227388</td>\n",
       "      <td>0.337773</td>\n",
       "      <td>0.541015</td>\n",
       "      <td>0.618601</td>\n",
       "      <td>0.299512</td>\n",
       "      <td>0.520926</td>\n",
       "      <td>-1.015866</td>\n",
       "      <td>-0.000249</td>\n",
       "      <td>-0.027141</td>\n",
       "      <td>-0.015049</td>\n",
       "      <td>-0.587413</td>\n",
       "      <td>0.329254</td>\n",
       "      <td>0.209908</td>\n",
       "      <td>-0.004192</td>\n",
       "      <td>-0.802576</td>\n",
       "      <td>-0.210874</td>\n",
       "      <td>-0.412455</td>\n",
       "      <td>0.112200</td>\n",
       "      <td>-0.082551</td>\n",
       "      <td>-0.175117</td>\n",
       "      <td>0.075088</td>\n",
       "      <td>1.0</td>\n",
       "      <td>1.0</td>\n",
       "      <td>0.0</td>\n",
       "    </tr>\n",
       "    <tr>\n",
       "      <th>2</th>\n",
       "      <td>1.0</td>\n",
       "      <td>-1.974930</td>\n",
       "      <td>1.117994</td>\n",
       "      <td>1.293858</td>\n",
       "      <td>0.279000</td>\n",
       "      <td>0.377537</td>\n",
       "      <td>0.588862</td>\n",
       "      <td>0.149982</td>\n",
       "      <td>0.283398</td>\n",
       "      <td>-0.983628</td>\n",
       "      <td>0.286693</td>\n",
       "      <td>-0.048148</td>\n",
       "      <td>-0.018781</td>\n",
       "      <td>-0.162478</td>\n",
       "      <td>0.537190</td>\n",
       "      <td>-0.103189</td>\n",
       "      <td>0.276877</td>\n",
       "      <td>-0.162642</td>\n",
       "      <td>0.389239</td>\n",
       "      <td>0.446490</td>\n",
       "      <td>0.430650</td>\n",
       "      <td>-0.255258</td>\n",
       "      <td>-0.102126</td>\n",
       "      <td>0.100778</td>\n",
       "      <td>1.0</td>\n",
       "      <td>1.0</td>\n",
       "      <td>0.0</td>\n",
       "    </tr>\n",
       "    <tr>\n",
       "      <th>3</th>\n",
       "      <td>1.0</td>\n",
       "      <td>-1.975794</td>\n",
       "      <td>1.213198</td>\n",
       "      <td>1.321256</td>\n",
       "      <td>0.484464</td>\n",
       "      <td>0.329827</td>\n",
       "      <td>-0.067854</td>\n",
       "      <td>0.443154</td>\n",
       "      <td>0.439187</td>\n",
       "      <td>0.475582</td>\n",
       "      <td>-0.088402</td>\n",
       "      <td>-0.844801</td>\n",
       "      <td>-0.885404</td>\n",
       "      <td>0.657901</td>\n",
       "      <td>-1.430833</td>\n",
       "      <td>0.953197</td>\n",
       "      <td>0.501913</td>\n",
       "      <td>1.152320</td>\n",
       "      <td>-0.456222</td>\n",
       "      <td>-0.171176</td>\n",
       "      <td>0.508072</td>\n",
       "      <td>0.253558</td>\n",
       "      <td>-0.093000</td>\n",
       "      <td>0.105604</td>\n",
       "      <td>1.0</td>\n",
       "      <td>1.0</td>\n",
       "      <td>0.0</td>\n",
       "    </tr>\n",
       "    <tr>\n",
       "      <th>4</th>\n",
       "      <td>1.0</td>\n",
       "      <td>2.347184</td>\n",
       "      <td>-1.852411</td>\n",
       "      <td>-0.778825</td>\n",
       "      <td>-0.641980</td>\n",
       "      <td>-2.388623</td>\n",
       "      <td>-0.693829</td>\n",
       "      <td>-0.710589</td>\n",
       "      <td>-1.604259</td>\n",
       "      <td>-0.590163</td>\n",
       "      <td>3.232919</td>\n",
       "      <td>1.562185</td>\n",
       "      <td>0.261892</td>\n",
       "      <td>1.038172</td>\n",
       "      <td>-1.333174</td>\n",
       "      <td>-0.045167</td>\n",
       "      <td>-0.401749</td>\n",
       "      <td>0.461114</td>\n",
       "      <td>-0.568264</td>\n",
       "      <td>-0.808578</td>\n",
       "      <td>1.163295</td>\n",
       "      <td>0.030349</td>\n",
       "      <td>-0.070314</td>\n",
       "      <td>-1.712010</td>\n",
       "      <td>1.0</td>\n",
       "      <td>2.0</td>\n",
       "      <td>0.0</td>\n",
       "    </tr>\n",
       "  </tbody>\n",
       "</table>\n",
       "</div>"
      ],
      "text/plain": [
       "    ID      Col2      Col3  ...  Medication_Intake  Prototype_ID  Tremor\n",
       "0  1.0 -1.944040  1.131356  ...                1.0           1.0     0.0\n",
       "1  1.0 -2.034009  1.090760  ...                1.0           1.0     0.0\n",
       "2  1.0 -1.974930  1.117994  ...                1.0           1.0     0.0\n",
       "3  1.0 -1.975794  1.213198  ...                1.0           1.0     0.0\n",
       "4  1.0  2.347184 -1.852411  ...                1.0           2.0     0.0\n",
       "\n",
       "[5 rows x 27 columns]"
      ]
     },
     "execution_count": 52,
     "metadata": {
      "tags": []
     },
     "output_type": "execute_result"
    }
   ],
   "source": [
    "data_features_me.head()"
   ]
  },
  {
   "cell_type": "code",
   "execution_count": 8,
   "metadata": {},
   "outputs": [],
   "source": [
    "import matplotlib.pyplot as plt"
   ]
  },
  {
   "cell_type": "code",
   "execution_count": 49,
   "metadata": {},
   "outputs": [
    {
     "data": {
      "text/plain": [
       "LogisticRegression(class_weight='balanced', random_state=0, solver='newton-cg')"
      ]
     },
     "execution_count": 49,
     "metadata": {},
     "output_type": "execute_result"
    }
   ],
   "source": [
    "clf1 = RandomForestClassifier(n_estimators = 100, random_state = 0, class_weight=\"balanced\")\n",
    "clf2 = LogisticRegression(class_weight=\"balanced\", random_state=0, solver=\"newton-cg\")\n",
    "\n",
    "clf1.fit(data_features_bs.drop(columns=[\"Prototype_ID\", \"ID\", \"Medication_Intake\"]).iloc[:,1:24], data_features_bs[outcomevar])\n",
    "clf2.fit(data_features_bs.drop(columns=[\"Prototype_ID\", \"ID\", \"Medication_Intake\"]).iloc[:,1:24], data_features_bs[outcomevar])"
   ]
  },
  {
   "cell_type": "code",
   "execution_count": 44,
   "metadata": {},
   "outputs": [
    {
     "data": {
      "image/png": "[encoded data removed]",
      "text/plain": [
       "<Figure size 432x288 with 8 Axes>"
      ]
     },
     "metadata": {
      "needs_background": "light"
     },
     "output_type": "display_data"
    }
   ],
   "source": [
    "graphpos = [(0,0), (0,1), (1,0), (1,1), (2,0), (2,1), (3,0), (3,1)]\n",
    "fig, axs = plt.subplots(4,2)\n",
    "\n",
    "for ind, i in enumerate(graphpos):\n",
    "    x = np.arange(20)\n",
    "    axs[i].plot(x * 4)\n",
    "    axs[i].plot(x ** 5)\n",
    "    plt.legend([\"blue\", \"green\"], loc =\"lower right\")\n"
   ]
  },
  {
   "cell_type": "code",
   "execution_count": 53,
   "metadata": {},
   "outputs": [
    {
     "data": {
      "image/png": "[encoded data removed]",
      "text/plain": [
       "<Figure size 720x720 with 8 Axes>"
      ]
     },
     "metadata": {
      "needs_background": "light"
     },
     "output_type": "display_data"
    }
   ],
   "source": [
    "files = ['02', '12', '13', '17', '18', '22', '23', '38']\n",
    "hours = np.arange(24)\n",
    "fig, axs = plt.subplots(4,2)\n",
    "countersrf = np.zeros((24, 8))\n",
    "counterslog = np.zeros((24, 8))\n",
    "\n",
    "fig.set_figheight(10)\n",
    "fig.set_figwidth(10)\n",
    "\n",
    "for ind, i in enumerate(files):\n",
    "    fps_file = 'C:\\\\Users\\Sam\\Documents\\Msc Project\\Features_per_second_hbv0{}.mat'.format(i)\n",
    "    fps_contents = sio.loadmat(fps_file)\n",
    "    fps_features = fps_contents['accel_features_hbv0{}'.format(i)];\n",
    "    \n",
    "    fps_features_whiten = fps_features[:,:45]\n",
    "    fps_features_whiten = fps_features_whiten - np.mean(fps_features_whiten,axis=0)\n",
    "    fps_features_whiten = pca.transform(fps_features_whiten)\n",
    "\n",
    "    fps_data = np.concatenate((fps_features_whiten, fps_features[:,45:]), axis=1)\n",
    "    \n",
    "    fps_df = pd.DataFrame(data=fps_data, columns=[\"Col2\", \"Col3\", \"Col4\", \"Col5\", \"Col6\", \"Col7\", \"Col8\", \"Col9\", \"Col10\",\n",
    "                                                  \"Col11\", \"Col12\", \"Col13\", \"Col14\", \"Col15\", \"Col16\", \"Col17\", \"Col18\", \n",
    "                                                  \"Col19\", \"Col20\", \"Col21\", \"Col22\", \"Col23\", \"Col24\", \"time1\", \"time2\"])\n",
    "    \n",
    "    fps_df[\"hour\"] = np.array([int(24*round(i - int(i), 3)) for i in fps_df[\"time1\"]])\n",
    "    \n",
    "    for h in hours:\n",
    "        time_df = fps_df[fps_df[\"hour\"] == h]\n",
    "        X = time_df.drop(columns=[\"time1\", \"time2\", \"hour\"])\n",
    "        probs_t_rf = clf1.predict_proba(X)[:,1]\n",
    "        countersrf[h, ind] = sum(j > 0.8 for j in probs_t_rf) / len(probs_t_rf)\n",
    "        probs_t_log = clf2.predict_proba(X)[:,1]\n",
    "        counterslog[h, ind] = sum(j > 0.8 for j in probs_t_log) / len(probs_t_log)\n",
    "\n",
    "graphpos = [(0,0), (0,1), (1,0), (1,1), (2,0), (2,1), (3,0), (3,1)]\n",
    "for ind, i in enumerate(graphpos):\n",
    "    axs[i].plot(hours, countersrf[:,ind])\n",
    "    axs[i].plot(hours, counterslog[:,ind])\n",
    "    axs[i].set_title(\"Patient {}\".format(ind))\n",
    "    plt.legend([\"Random Forest\", \"Logistic Regression\"], bbox_to_anchor=(0, 1.02, 1, 0.2), \n",
    "               loc =\"lower left\", mode=\"expand\", ncol=3)\n",
    "    \n",
    "for ax in axs.flat:\n",
    "    ax.set(xlabel='Hour', ylabel='Frequency')\n",
    "\n",
    "# Hide x labels and tick labels for top plots and y ticks for right plots.\n",
    "for ax in axs.flat:\n",
    "    ax.label_outer()"
   ]
  },
  {
   "cell_type": "code",
   "execution_count": 51,
   "metadata": {},
   "outputs": [
    {
     "data": {
      "text/plain": [
       "Text(0.5, 1.0, 'Tremor frequency per hour, RF')"
      ]
     },
     "execution_count": 51,
     "metadata": {},
     "output_type": "execute_result"
    },
    {
     "data": {
      "image/png": "[encoded data removed]",
      "text/plain": [
       "<Figure size 432x288 with 1 Axes>"
      ]
     },
     "metadata": {
      "needs_background": "light"
     },
     "output_type": "display_data"
    }
   ],
   "source": [
    "plt.plot(hours, countersrf)\n",
    "plt.xlabel(\"Hour\")\n",
    "plt.ylabel(\"Frequency of tremor\")\n",
    "plt.title(\"Tremor frequency per hour, RF\")"
   ]
  },
  {
   "cell_type": "code",
   "execution_count": 52,
   "metadata": {},
   "outputs": [
    {
     "data": {
      "text/plain": [
       "Text(0.5, 1.0, 'Tremor frequency per hour, LogReg')"
      ]
     },
     "execution_count": 52,
     "metadata": {},
     "output_type": "execute_result"
    },
    {
     "data": {
      "image/png": "[encoded data removed]",
      "text/plain": [
       "<Figure size 432x288 with 1 Axes>"
      ]
     },
     "metadata": {
      "needs_background": "light"
     },
     "output_type": "display_data"
    }
   ],
   "source": [
    "plt.plot(hours, counterslog)\n",
    "plt.xlabel(\"Hour\")\n",
    "plt.ylabel(\"Frequency of tremor\")\n",
    "plt.title(\"Tremor frequency per hour, LogReg\")"
   ]
  },
  {
   "cell_type": "code",
   "execution_count": 59,
   "metadata": {},
   "outputs": [],
   "source": [
    "fps2_df[\"hour\"] = np.array([fps2_df[\"timestamp\"].iloc[i].hour for i in range(len(fps2_df))])\n",
    "countersrf2 = np.zeros(24)\n",
    "counterslog2 = np.zeros(24)\n",
    "for i in hours:\n",
    "    time2_df = fps2_df[fps2_df[\"hour\"] == i]\n",
    "    X2 = time2_df.drop(columns=[\"time1\", \"time2\", \"timestamp\", \"hour\"])\n",
    "    probs_rf_t2 = clf1.predict_proba(X2)[:,1]\n",
    "    countersrf2[i] = sum(j > 0.8 for j in probs_rf_t2) / len(probs_rf_t2)\n",
    "    probs_log_t2 = clf2.predict_proba(X2)[:,1]\n",
    "    counterslog2[i] = sum(j > 0.8 for j in probs_log_t2) / len(probs_log_t2)"
   ]
  },
  {
   "cell_type": "code",
   "execution_count": 60,
   "metadata": {},
   "outputs": [
    {
     "data": {
      "text/plain": [
       "Text(0.5, 1.0, 'Tremor frequency per hour, Data 2')"
      ]
     },
     "execution_count": 60,
     "metadata": {},
     "output_type": "execute_result"
    },
    {
     "data": {
      "image/png": "[encoded data removed]",
      "text/plain": [
       "<Figure size 432x288 with 1 Axes>"
      ]
     },
     "metadata": {
      "needs_background": "light"
     },
     "output_type": "display_data"
    }
   ],
   "source": [
    "plt.plot(hours, countersrf2)\n",
    "plt.xlabel(\"Hour\")\n",
    "plt.ylabel(\"Frequency of tremor\")\n",
    "plt.title(\"Tremor frequency per hour, Data 2\")"
   ]
  },
  {
   "cell_type": "code",
   "execution_count": 61,
   "metadata": {},
   "outputs": [
    {
     "data": {
      "text/plain": [
       "Text(0.5, 1.0, 'Tremor frequency per hour, Data 2')"
      ]
     },
     "execution_count": 61,
     "metadata": {},
     "output_type": "execute_result"
    },
    {
     "data": {
      "image/png": "[encoded data removed]",
      "text/plain": [
       "<Figure size 432x288 with 1 Axes>"
      ]
     },
     "metadata": {
      "needs_background": "light"
     },
     "output_type": "display_data"
    }
   ],
   "source": [
    "plt.plot(hours, counterslog2)\n",
    "plt.xlabel(\"Hour\")\n",
    "plt.ylabel(\"Frequency of tremor\")\n",
    "plt.title(\"Tremor frequency per hour, Data 2\")"
   ]
  },
  {
   "cell_type": "code",
   "execution_count": null,
   "metadata": {},
   "outputs": [],
   "source": []
  }
 ],
 "metadata": {
  "colab": {
   "collapsed_sections": [],
   "name": "CrossValidationPD.ipynb",
   "provenance": []
  },
  "kernelspec": {
   "display_name": "Python 3",
   "language": "python",
   "name": "python3"
  },
  "language_info": {
   "codemirror_mode": {
    "name": "ipython",
    "version": 3
   },
   "file_extension": ".py",
   "mimetype": "text/x-python",
   "name": "python",
   "nbconvert_exporter": "python",
   "pygments_lexer": "ipython3",
   "version": "3.7.6"
  }
 },
 "nbformat": 4,
 "nbformat_minor": 1
}
